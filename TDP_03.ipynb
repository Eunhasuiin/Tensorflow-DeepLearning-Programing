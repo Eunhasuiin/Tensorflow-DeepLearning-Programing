{
  "nbformat": 4,
  "nbformat_minor": 0,
  "metadata": {
    "colab": {
      "provenance": [],
      "authorship_tag": "ABX9TyMCM1IqbFTeqsMIFt3RhHmz",
      "include_colab_link": true
    },
    "kernelspec": {
      "name": "python3",
      "display_name": "Python 3"
    },
    "language_info": {
      "name": "python"
    }
  },
  "cells": [
    {
      "cell_type": "markdown",
      "metadata": {
        "id": "view-in-github",
        "colab_type": "text"
      },
      "source": [
        "<a href=\"https://colab.research.google.com/github/Eunhasuiin/Tensorflow-DeepLearning-Programing/blob/main/TDP_03.ipynb\" target=\"_parent\"><img src=\"https://colab.research.google.com/assets/colab-badge.svg\" alt=\"Open In Colab\"/></a>"
      ]
    },
    {
      "cell_type": "markdown",
      "source": [
        "# I. Mean Square Error loss function"
      ],
      "metadata": {
        "id": "QENaLRNFiV8r"
      }
    },
    {
      "cell_type": "code",
      "execution_count": null,
      "metadata": {
        "colab": {
          "base_uri": "https://localhost:8080/"
        },
        "id": "nOGfKRQahXKm",
        "outputId": "f2b83e40-72ee-4eaa-a14f-1b436975c87d"
      },
      "outputs": [
        {
          "output_type": "stream",
          "name": "stdout",
          "text": [
            "MSE(y1,t) ==  1.875\n",
            "MSE(y2,t) ==  0.25\n"
          ]
        }
      ],
      "source": [
        "import numpy as np\n",
        "\n",
        "#Mean square error calculate without tensorflow\n",
        "def MSE(y,t): return np.sum((y-t)**2)/t.size \n",
        "\n",
        "t=np.array([1,2,3,4])\n",
        "y1=np.array([0.5, 1, 1.5, 2])\n",
        "print(\"MSE(y1,t) == \", MSE(y1,t))\n",
        "\n",
        "y2=np.array([0.5, 1.5, 2.5, 3.5])\n",
        "print(\"MSE(y2,t) == \", MSE(y2,t))"
      ]
    },
    {
      "cell_type": "code",
      "source": [
        "import numpy as np\n",
        "import tensorflow as tf\n",
        "\n",
        "#calculate with reduce_mean() and square()\n",
        "def MSE(y, t): return tf.reduce_mean(tf.square(y-t)) # It calculate first (y-t) ** 2 and get mean\n",
        "\n",
        "t=np.array([1,2,3,4])\n",
        "y1=np.array([0.5, 1, 1.5, 2])\n",
        "print(\"MSE(y1,t) == \", MSE(y1,t).numpy()) # if there is not .numpy() -> MSE(y1,t) ==  tf.Tensor(1.875, shape=(), dtype=float64)\n",
        "\n",
        "y2=np.array([0.5, 1.5, 2.5, 3.5])\n",
        "print(\"MSE(y2,t) == \", MSE(y2,t).numpy()) # if there is not .numpy() -> MSE(y2,t) ==  tf.Tensor(0.25, shape=(), dtype=float64)"
      ],
      "metadata": {
        "colab": {
          "base_uri": "https://localhost:8080/"
        },
        "id": "86Y_OcHQkP2c",
        "outputId": "f4123857-6178-45e1-db0d-d5b0825dca1f"
      },
      "execution_count": null,
      "outputs": [
        {
          "output_type": "stream",
          "name": "stdout",
          "text": [
            "MSE(y1,t) ==  1.875\n",
            "MSE(y2,t) ==  0.25\n"
          ]
        }
      ]
    },
    {
      "cell_type": "code",
      "source": [
        "import numpy as np\n",
        "import tensorflow as tf\n",
        "\n",
        "MSE=tf.keras.losses.MeanSquaredError() #make MSE to made funcion from keras\n",
        "\n",
        "t=np.array([1,2,3,4])\n",
        "t=tf.convert_to_tensor(t, dtype=tf.float32) #t is int32\n",
        "\n",
        "y1=np.array([0.5, 1, 1.5, 2])\n",
        "print(\"MSE(y1,t) == \", MSE(y1,t).numpy()) # if there is not .numpy() -> MSE(y1,t) ==  tf.Tensor(1.875, shape=(), dtype=float64)\n",
        "\n",
        "y2=np.array([0.5, 1.5, 2.5, 3.5])\n",
        "print(\"MSE(y2,t) == \", MSE(y2,t).numpy()) # if there is not .numpy() -> MSE(y2,t) ==  tf.Tensor(0.25, shape=(), dtype=float64)"
      ],
      "metadata": {
        "colab": {
          "base_uri": "https://localhost:8080/"
        },
        "id": "ixapK83xlqZV",
        "outputId": "ec226eea-8e9b-42f9-cbbe-2c3099736993"
      },
      "execution_count": null,
      "outputs": [
        {
          "output_type": "stream",
          "name": "stdout",
          "text": [
            "MSE(y1,t) ==  1.875\n",
            "MSE(y2,t) ==  0.25\n"
          ]
        }
      ]
    },
    {
      "cell_type": "markdown",
      "source": [
        "# II Numpy simple linear regrssion"
      ],
      "metadata": {
        "id": "V91_jstcm-_e"
      }
    },
    {
      "cell_type": "markdown",
      "source": [
        "## 1. Gredient Decent"
      ],
      "metadata": {
        "id": "315oUoypwJW2"
      }
    },
    {
      "cell_type": "code",
      "source": [
        "import numpy as np\n",
        "def MSE(y,t): return np.sum((y-t)**2)/t.size  #loss function\n",
        "\n",
        "x=np.arange(12)\n",
        "t=np.arange(12)\n",
        "loss_list=[]\n",
        "\n",
        "#hyper_parameter setting\n",
        "w=0.5\n",
        "b=0\n",
        "lr=1e-2\n",
        "\n",
        "for epoch in range(200):\n",
        "  y=w*x+b #2_dim linear function\n",
        "  dW=np.sum((y-t)*x)*2/(x.size) # It came from f`(MSE)= (1/N) * sum((y-t)**2) y to w*x+b and partial derivative w\n",
        "  dB=np.sum((y-t))*2/(x.size) # It came from f`(MSE)= (1/N) * sum((y-t)**2) y to w*x+b and partial derivative b\n",
        "\n",
        "  w-=lr*dW #find next value of w\n",
        "  b-=lr*dB #find next value of b\n",
        "\n",
        "  y=w*x+b\n",
        "  loss=MSE(y,t) #caclulate result of this epoch\n",
        "  loss_list.append(loss)\n",
        "  if not epoch % 10: print(\"epoch={}: w={:>8.4f}, b={:>8.4f}, loss={:>8.4f}\".format(epoch, w, b, loss))\n",
        "\n",
        "print(\"w={:>.4f}, b={:>.4f}, loss={:>.4f}\".format(w, b, loss))\n",
        "\n",
        "import matplotlib.pyplot as plt\n",
        "plt.plot(loss_list)\n",
        "plt.show()"
      ],
      "metadata": {
        "colab": {
          "base_uri": "https://localhost:8080/",
          "height": 651
        },
        "id": "ssvs7vWhnImp",
        "outputId": "9bc00e0e-1596-4c68-d7ee-814802a1e913"
      },
      "execution_count": null,
      "outputs": [
        {
          "output_type": "stream",
          "name": "stdout",
          "text": [
            "epoch=0: w=  0.9217, b=  0.0550, loss=  0.2144\n",
            "epoch=10: w=  0.9920, b=  0.0607, loss=  0.0010\n",
            "epoch=20: w=  0.9925, b=  0.0574, loss=  0.0009\n",
            "epoch=30: w=  0.9929, b=  0.0543, loss=  0.0008\n",
            "epoch=40: w=  0.9933, b=  0.0514, loss=  0.0007\n",
            "epoch=50: w=  0.9936, b=  0.0486, loss=  0.0007\n",
            "epoch=60: w=  0.9940, b=  0.0459, loss=  0.0006\n",
            "epoch=70: w=  0.9943, b=  0.0434, loss=  0.0005\n",
            "epoch=80: w=  0.9946, b=  0.0411, loss=  0.0005\n",
            "epoch=90: w=  0.9949, b=  0.0389, loss=  0.0004\n",
            "epoch=100: w=  0.9952, b=  0.0368, loss=  0.0004\n",
            "epoch=110: w=  0.9954, b=  0.0348, loss=  0.0003\n",
            "epoch=120: w=  0.9957, b=  0.0329, loss=  0.0003\n",
            "epoch=130: w=  0.9959, b=  0.0311, loss=  0.0003\n",
            "epoch=140: w=  0.9961, b=  0.0294, loss=  0.0002\n",
            "epoch=150: w=  0.9963, b=  0.0278, loss=  0.0002\n",
            "epoch=160: w=  0.9965, b=  0.0263, loss=  0.0002\n",
            "epoch=170: w=  0.9967, b=  0.0249, loss=  0.0002\n",
            "epoch=180: w=  0.9969, b=  0.0235, loss=  0.0002\n",
            "epoch=190: w=  0.9971, b=  0.0223, loss=  0.0001\n",
            "w=0.9972, b=0.0212, loss=0.0001\n"
          ]
        },
        {
          "output_type": "display_data",
          "data": {
            "text/plain": [
              "<Figure size 432x288 with 1 Axes>"
            ],
            "image/png": "[encoded data removed]"
          },
          "metadata": {
            "needs_background": "light"
          }
        }
      ]
    },
    {
      "cell_type": "code",
      "source": [
        "import numpy as np\n",
        "import matplotlib.pyplot as plt\n",
        "\n",
        "def MSE(y,t):\n",
        "  return np.sum((y-t)**2) / t.size\n",
        "\n",
        "x=np.arange(12)\n",
        "t=np.arange(12)\n",
        "\n",
        "#set hyper parameter\n",
        "w=0.5\n",
        "b=0\n",
        "lr=0.0001\n",
        "loss_list=[]\n",
        "\n",
        "train_size=t.size\n",
        "batch_size=4\n",
        "K=train_size // batch_size\n",
        "\n",
        "for epoch in range(100):\n",
        "  loss=0\n",
        "  for step in range(K):\n",
        "    mask=np.random.choice(train_size, batch_size)\n",
        "    x_batch=x[mask]\n",
        "    t_batch=t[mask]\n",
        "\n",
        "    y= w*x_batch + b\n",
        "    dW=np.sum((y-t_batch)*x_batch)*2 / batch_size\n",
        "    dB=np.sum((y-t_batch))*2 / batch_size\n",
        "\n",
        "    w-= lr*dW\n",
        "    b-= lr*dB\n",
        "\n",
        "    y=w*x_batch + b\n",
        "    loss+=MSE(y, t_batch)\n",
        "  loss/=K\n",
        "  loss_list.append(loss)\n",
        "\n",
        "  if not epoch % 10: print(\"epoch={}: w={:>8.4f}, b={:>8.4f}, loss={:>8.4f}\".format(epoch, w, b, loss))\n",
        "\n",
        "print(\"w={:>8.4f}, b={:>8.4f}, loss={:>8.4f}\".format(w, b, loss))\n",
        "\n",
        "import matplotlib.pyplot as plt\n",
        "plt.plot(loss_list)\n",
        "plt.show()"
      ],
      "metadata": {
        "colab": {
          "base_uri": "https://localhost:8080/",
          "height": 0
        },
        "id": "Jgikgr7iSNgu",
        "outputId": "6475ca31-ed2b-46e1-d67b-9ddeed89bb01"
      },
      "execution_count": 4,
      "outputs": [
        {
          "output_type": "stream",
          "name": "stdout",
          "text": [
            "epoch=0: w=  0.5094, b=  0.0015, loss=  7.6908\n",
            "epoch=10: w=  0.6136, b=  0.0152, loss=  3.3681\n",
            "epoch=20: w=  0.7001, b=  0.0265, loss=  5.1572\n",
            "epoch=30: w=  0.7708, b=  0.0353, loss=  1.6832\n",
            "epoch=40: w=  0.8193, b=  0.0415, loss=  1.6821\n",
            "epoch=50: w=  0.8597, b=  0.0468, loss=  0.8679\n",
            "epoch=60: w=  0.8917, b=  0.0508, loss=  0.4422\n",
            "epoch=70: w=  0.9130, b=  0.0537, loss=  0.1934\n",
            "epoch=80: w=  0.9324, b=  0.0561, loss=  0.1766\n",
            "epoch=90: w=  0.9449, b=  0.0576, loss=  0.1045\n",
            "w=  0.9547, b=  0.0588, loss=  0.0826\n"
          ]
        },
        {
          "output_type": "display_data",
          "data": {
            "text/plain": [
              "<Figure size 432x288 with 1 Axes>"
            ],
            "image/png": "[encoded data removed]"
          },
          "metadata": {
            "needs_background": "light"
          }
        }
      ]
    },
    {
      "cell_type": "markdown",
      "source": [
        "#III auto derivative calculation"
      ],
      "metadata": {
        "id": "33HeeGKkZH5A"
      }
    },
    {
      "cell_type": "code",
      "source": [
        "import tensorflow as tf\n",
        "\n",
        "x=tf.Variable(2.0); y=tf.Variable(3.0)\n",
        "\n",
        "with tf.GradientTape() as tape: \n",
        "  z=x**2+y**2\n",
        "dx,dy=tape.gradient(z,[x,y]) #auto calculate partial derivative\n",
        "\n",
        "print(dx.numpy()); print(dy.numpy())"
      ],
      "metadata": {
        "colab": {
          "base_uri": "https://localhost:8080/"
        },
        "id": "FnHKHjCYZS9c",
        "outputId": "306e5ac5-fd74-4edd-f04c-47bd7ae9d615"
      },
      "execution_count": 7,
      "outputs": [
        {
          "output_type": "stream",
          "name": "stdout",
          "text": [
            "4.0\n",
            "6.0\n"
          ]
        }
      ]
    },
    {
      "cell_type": "code",
      "source": [
        "import tensorflow as tf\n",
        "\n",
        "x=tf.Variable(2.0); y=tf.Variable(3.0)\n",
        "\n",
        "with tf.GradientTape(persistent=True) as tape: #persistnt is simply maintain function INF\n",
        "  tape.watch(x); \n",
        "  tape.watch(y)\n",
        "  z=x**2+y**2\n",
        "dx=tape.gradient(z,x)\n",
        "dy=tape.gradient(z,y)\n",
        "#dx,dy=tape.gradient(z,[x,y]) #auto calculate partial derivative\n",
        "\n",
        "print(dx.numpy()); print(dy.numpy())"
      ],
      "metadata": {
        "colab": {
          "base_uri": "https://localhost:8080/"
        },
        "id": "OxJLnP27apEo",
        "outputId": "44993d8e-7858-4796-c330-5c55a9653874"
      },
      "execution_count": 21,
      "outputs": [
        {
          "output_type": "stream",
          "name": "stdout",
          "text": [
            "4.0\n",
            "6.0\n"
          ]
        }
      ]
    },
    {
      "cell_type": "code",
      "source": [
        "import tensorflow as tf\n",
        "\n",
        "x=tf.Variable(2.0); y=tf.Variable(3.0)\n",
        "\n",
        "with tf.GradientTape(watch_accessed_variables=False) as tape: #watch_accessed_variable is mean if you want GradientTape watch your Global variable\n",
        "  tape.watch(x); \n",
        "  tape.watch(y)\n",
        "  z=x**2+y**2\n",
        "\n",
        "dx,dy=tape.gradient(z,[x,y]) #auto calculate partial derivative\n",
        "\n",
        "print(dx.numpy()); print(dy.numpy())"
      ],
      "metadata": {
        "colab": {
          "base_uri": "https://localhost:8080/"
        },
        "id": "nOAgGRJ7b-sA",
        "outputId": "f556bceb-e339-467c-95ac-47ea05eb83f9"
      },
      "execution_count": 22,
      "outputs": [
        {
          "output_type": "stream",
          "name": "stdout",
          "text": [
            "4.0\n",
            "6.0\n"
          ]
        }
      ]
    },
    {
      "cell_type": "code",
      "source": [
        "import tensorflow as tf\n",
        "\n",
        "x=tf.Variable(3.0)\n",
        "\n",
        "with tf.GradientTape() as tape2:\n",
        "  with tf.GradientTape() as tape1:\n",
        "    y= x**3\n",
        "  dy=tape1.gradient(y,x)\n",
        "dy2=tape2.gradient(dy,x)\n",
        "\n",
        "print(dy.numpy())\n",
        "print(dy2.numpy())"
      ],
      "metadata": {
        "colab": {
          "base_uri": "https://localhost:8080/"
        },
        "id": "Ut9RyuBxb-mc",
        "outputId": "9da37ed0-dc92-4c11-fbfa-99b6badd7773"
      },
      "execution_count": 25,
      "outputs": [
        {
          "output_type": "stream",
          "name": "stdout",
          "text": [
            "27.0\n",
            "18.0\n"
          ]
        }
      ]
    },
    {
      "cell_type": "markdown",
      "source": [
        "#IV simple linear regression with tensorflow"
      ],
      "metadata": {
        "id": "pYqsTfz1uyTT"
      }
    },
    {
      "cell_type": "code",
      "source": [
        "import numpy as np\n",
        "import tensorflow as tf\n",
        "import matplotlib.pyplot as plt\n",
        "\n",
        "x=np.arange(12)\n",
        "t=np.arange(12)\n",
        "\n",
        "\n",
        "#hyper parameter\n",
        "w=tf.Variable(0.5)\n",
        "b=tf.Variable(0.0)\n",
        "\n",
        "lr=0.01\n",
        "\n",
        "loss_list=[]\n",
        "for epoch in range(100):\n",
        "  with tf.GradientTape() as tape:\n",
        "    y=w*x+b\n",
        "    loss=tf.reduce_mean(tf.square(y-t))\n",
        "  loss_list.append(loss)\n",
        "\n",
        "  dW, dB=tape.gradient(loss,[w,b]) #loss값을 기준으로 하는 w와 b의 편미분 값\n",
        "  w.assign_sub(dW*lr)\n",
        "  b.assign_sub(dB*lr)\n",
        "\n",
        "print(\"w={:>.4f}, b={:>.4f}, loss={:>.4f}\".format(w.numpy(), b.numpy(), loss.numpy()))\n",
        "\n",
        "plt.plot(loss_list)\n",
        "plt.show()"
      ],
      "metadata": {
        "colab": {
          "base_uri": "https://localhost:8080/",
          "height": 283
        },
        "id": "wK9WarpwkMly",
        "outputId": "486673c7-b11e-481f-a8fb-cf36d1bcc344"
      },
      "execution_count": 30,
      "outputs": [
        {
          "output_type": "stream",
          "name": "stdout",
          "text": [
            "w=0.9951, b=0.0370, loss=0.0004\n"
          ]
        },
        {
          "output_type": "display_data",
          "data": {
            "text/plain": [
              "<Figure size 432x288 with 1 Axes>"
            ],
            "image/png": "[encoded data removed]"
          },
          "metadata": {
            "needs_background": "light"
          }
        }
      ]
    },
    {
      "cell_type": "code",
      "source": [
        "import numpy as np\n",
        "import tensorflow as tf\n",
        "import matplotlib.pyplot as plt\n",
        "\n",
        "x=np.arange(12)\n",
        "t=np.arange(12)\n",
        "\n",
        "#hyper parameter\n",
        "w=tf.Variable(0.5)\n",
        "b=tf.Variable(0.0)\n",
        "lr=0.01\n",
        "\n",
        "train_size=x.size\n",
        "batch_size=4\n",
        "K=train_size//batch_size\n",
        "\n",
        "loss_list=[]\n",
        "\n",
        "for epoch in range(100):\n",
        "  batch_loss=0.0\n",
        "  for step in range(K):\n",
        "    mask=np.random.choice(train_size, batch_size)\n",
        "    x_batch=x[mask]\n",
        "    t_batch=t[mask]\n",
        "\n",
        "    with tf.GradientTape() as tape:\n",
        "      y=w*x_batch + b\n",
        "      loss=tf.reduce_mean(tf.square(y-t_batch))\n",
        "\n",
        "    dW, dB = tape.gradient(loss,[w,b])\n",
        "    w.assign_sub(lr*dW)\n",
        "    b.assign_sub(lr*dB)\n",
        "    batch_loss += loss.numpy()\n",
        "\n",
        "  batch_loss/=K #loss의 평균 산출\n",
        "  loss_list.append(batch_loss)\n",
        "\n",
        "print(\"w={:>.4f}, b={:>.4f}, batch loss={:>.4f}\".format(w.numpy(), b.numpy(), batch_loss))\n",
        "\n",
        "plt.plot(loss_list)\n",
        "plt.show()  "
      ],
      "metadata": {
        "colab": {
          "base_uri": "https://localhost:8080/",
          "height": 283
        },
        "id": "nOkbSZwdpXQU",
        "outputId": "3eac1395-c01a-4d03-ad9f-58ecd6647f4a"
      },
      "execution_count": 36,
      "outputs": [
        {
          "output_type": "stream",
          "name": "stdout",
          "text": [
            "w=0.9986, b=0.0104, batch loss=0.0000\n"
          ]
        },
        {
          "output_type": "display_data",
          "data": {
            "text/plain": [
              "<Figure size 432x288 with 1 Axes>"
            ],
            "image/png": "[encoded data removed]"
          },
          "metadata": {
            "needs_background": "light"
          }
        }
      ]
    }
  ]
}