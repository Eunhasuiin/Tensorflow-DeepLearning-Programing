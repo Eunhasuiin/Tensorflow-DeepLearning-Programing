{
  "nbformat": 4,
  "nbformat_minor": 0,
  "metadata": {
    "colab": {
      "provenance": [],
      "authorship_tag": "ABX9TyNM/ZouOuCpVvA273xGOPoL",
      "include_colab_link": true
    },
    "kernelspec": {
      "name": "python3",
      "display_name": "Python 3"
    },
    "language_info": {
      "name": "python"
    }
  },
  "cells": [
    {
      "cell_type": "markdown",
      "metadata": {
        "id": "view-in-github",
        "colab_type": "text"
      },
      "source": [
        "<a href=\"https://colab.research.google.com/github/Eunhasuiin/Tensorflow-DeepLearning-Programing/blob/main/TDP_03.ipynb\" target=\"_parent\"><img src=\"https://colab.research.google.com/assets/colab-badge.svg\" alt=\"Open In Colab\"/></a>"
      ]
    },
    {
      "cell_type": "markdown",
      "source": [
        "# I. Mean Square Error loss function"
      ],
      "metadata": {
        "id": "QENaLRNFiV8r"
      }
    },
    {
      "cell_type": "code",
      "execution_count": null,
      "metadata": {
        "colab": {
          "base_uri": "https://localhost:8080/"
        },
        "id": "nOGfKRQahXKm",
        "outputId": "f2b83e40-72ee-4eaa-a14f-1b436975c87d"
      },
      "outputs": [
        {
          "output_type": "stream",
          "name": "stdout",
          "text": [
            "MSE(y1,t) ==  1.875\n",
            "MSE(y2,t) ==  0.25\n"
          ]
        }
      ],
      "source": [
        "import numpy as np\n",
        "\n",
        "#Mean square error calculate without tensorflow\n",
        "def MSE(y,t): return np.sum((y-t)**2)/t.size \n",
        "\n",
        "t=np.array([1,2,3,4])\n",
        "y1=np.array([0.5, 1, 1.5, 2])\n",
        "print(\"MSE(y1,t) == \", MSE(y1,t))\n",
        "\n",
        "y2=np.array([0.5, 1.5, 2.5, 3.5])\n",
        "print(\"MSE(y2,t) == \", MSE(y2,t))"
      ]
    },
    {
      "cell_type": "code",
      "source": [
        "import numpy as np\n",
        "import tensorflow as tf\n",
        "\n",
        "#calculate with reduce_mean() and square()\n",
        "def MSE(y, t): return tf.reduce_mean(tf.square(y-t)) # It calculate first (y-t) ** 2 and get mean\n",
        "\n",
        "t=np.array([1,2,3,4])\n",
        "y1=np.array([0.5, 1, 1.5, 2])\n",
        "print(\"MSE(y1,t) == \", MSE(y1,t).numpy()) # if there is not .numpy() -> MSE(y1,t) ==  tf.Tensor(1.875, shape=(), dtype=float64)\n",
        "\n",
        "y2=np.array([0.5, 1.5, 2.5, 3.5])\n",
        "print(\"MSE(y2,t) == \", MSE(y2,t).numpy()) # if there is not .numpy() -> MSE(y2,t) ==  tf.Tensor(0.25, shape=(), dtype=float64)"
      ],
      "metadata": {
        "colab": {
          "base_uri": "https://localhost:8080/"
        },
        "id": "86Y_OcHQkP2c",
        "outputId": "f4123857-6178-45e1-db0d-d5b0825dca1f"
      },
      "execution_count": null,
      "outputs": [
        {
          "output_type": "stream",
          "name": "stdout",
          "text": [
            "MSE(y1,t) ==  1.875\n",
            "MSE(y2,t) ==  0.25\n"
          ]
        }
      ]
    },
    {
      "cell_type": "code",
      "source": [
        "import numpy as np\n",
        "import tensorflow as tf\n",
        "\n",
        "MSE=tf.keras.losses.MeanSquaredError() #make MSE to made funcion from keras\n",
        "\n",
        "t=np.array([1,2,3,4])\n",
        "t=tf.convert_to_tensor(t, dtype=tf.float32) #t is int32\n",
        "\n",
        "y1=np.array([0.5, 1, 1.5, 2])\n",
        "print(\"MSE(y1,t) == \", MSE(y1,t).numpy()) # if there is not .numpy() -> MSE(y1,t) ==  tf.Tensor(1.875, shape=(), dtype=float64)\n",
        "\n",
        "y2=np.array([0.5, 1.5, 2.5, 3.5])\n",
        "print(\"MSE(y2,t) == \", MSE(y2,t).numpy()) # if there is not .numpy() -> MSE(y2,t) ==  tf.Tensor(0.25, shape=(), dtype=float64)"
      ],
      "metadata": {
        "colab": {
          "base_uri": "https://localhost:8080/"
        },
        "id": "ixapK83xlqZV",
        "outputId": "ec226eea-8e9b-42f9-cbbe-2c3099736993"
      },
      "execution_count": null,
      "outputs": [
        {
          "output_type": "stream",
          "name": "stdout",
          "text": [
            "MSE(y1,t) ==  1.875\n",
            "MSE(y2,t) ==  0.25\n"
          ]
        }
      ]
    },
    {
      "cell_type": "markdown",
      "source": [
        "# II Numpy simple linear regrssion"
      ],
      "metadata": {
        "id": "V91_jstcm-_e"
      }
    },
    {
      "cell_type": "markdown",
      "source": [
        "## 1. Gredient Decent"
      ],
      "metadata": {
        "id": "315oUoypwJW2"
      }
    },
    {
      "cell_type": "code",
      "source": [
        "import numpy as np\n",
        "def MSE(y,t): return np.sum((y-t)**2)/t.size  #loss function\n",
        "\n",
        "x=np.arange(12)\n",
        "t=np.arange(12)\n",
        "loss_list=[]\n",
        "\n",
        "#hyper_parameter setting\n",
        "w=0.5\n",
        "b=0\n",
        "lr=1e-2\n",
        "\n",
        "for epoch in range(200):\n",
        "  y=w*x+b #2_dim linear function\n",
        "  dW=np.sum((y-t)*x)*2/(x.size) # It came from f`(MSE)= (1/N) * sum((y-t)**2) y to w*x+b and partial derivative w\n",
        "  dB=np.sum((y-t))*2/(x.size) # It came from f`(MSE)= (1/N) * sum((y-t)**2) y to w*x+b and partial derivative b\n",
        "\n",
        "  w-=lr*dW #find next value of w\n",
        "  b-=lr*dB #find next value of b\n",
        "\n",
        "  y=w*x+b\n",
        "  loss=MSE(y,t) #caclulate result of this epoch\n",
        "  loss_list.append(loss)\n",
        "  if not epoch % 10: print(\"epoch={}: w={:>8.4f}, b={:>8.4f}, loss={:>8.4f}\".format(epoch, w, b, loss))\n",
        "\n",
        "print(\"w={:>.4f}, b={:>.4f}, loss={:>.4f}\".format(w, b, loss))\n",
        "\n",
        "import matplotlib.pyplot as plt\n",
        "plt.plot(loss_list)\n",
        "plt.show()"
      ],
      "metadata": {
        "colab": {
          "base_uri": "https://localhost:8080/",
          "height": 651
        },
        "id": "ssvs7vWhnImp",
        "outputId": "9bc00e0e-1596-4c68-d7ee-814802a1e913"
      },
      "execution_count": null,
      "outputs": [
        {
          "output_type": "stream",
          "name": "stdout",
          "text": [
            "epoch=0: w=  0.9217, b=  0.0550, loss=  0.2144\n",
            "epoch=10: w=  0.9920, b=  0.0607, loss=  0.0010\n",
            "epoch=20: w=  0.9925, b=  0.0574, loss=  0.0009\n",
            "epoch=30: w=  0.9929, b=  0.0543, loss=  0.0008\n",
            "epoch=40: w=  0.9933, b=  0.0514, loss=  0.0007\n",
            "epoch=50: w=  0.9936, b=  0.0486, loss=  0.0007\n",
            "epoch=60: w=  0.9940, b=  0.0459, loss=  0.0006\n",
            "epoch=70: w=  0.9943, b=  0.0434, loss=  0.0005\n",
            "epoch=80: w=  0.9946, b=  0.0411, loss=  0.0005\n",
            "epoch=90: w=  0.9949, b=  0.0389, loss=  0.0004\n",
            "epoch=100: w=  0.9952, b=  0.0368, loss=  0.0004\n",
            "epoch=110: w=  0.9954, b=  0.0348, loss=  0.0003\n",
            "epoch=120: w=  0.9957, b=  0.0329, loss=  0.0003\n",
            "epoch=130: w=  0.9959, b=  0.0311, loss=  0.0003\n",
            "epoch=140: w=  0.9961, b=  0.0294, loss=  0.0002\n",
            "epoch=150: w=  0.9963, b=  0.0278, loss=  0.0002\n",
            "epoch=160: w=  0.9965, b=  0.0263, loss=  0.0002\n",
            "epoch=170: w=  0.9967, b=  0.0249, loss=  0.0002\n",
            "epoch=180: w=  0.9969, b=  0.0235, loss=  0.0002\n",
            "epoch=190: w=  0.9971, b=  0.0223, loss=  0.0001\n",
            "w=0.9972, b=0.0212, loss=0.0001\n"
          ]
        },
        {
          "output_type": "display_data",
          "data": {
            "text/plain": [
              "<Figure size 432x288 with 1 Axes>"
            ],
            "image/png": "[encoded data removed]"
          },
          "metadata": {
            "needs_background": "light"
          }
        }
      ]
    },
    {
      "cell_type": "code",
      "source": [
        "import numpy as np\n",
        "import matplotlib.pyplot as plt\n",
        "\n",
        "def MSE(y,t):\n",
        "  return np.sum((y-t)**2) / t.size\n",
        "\n",
        "x=np.arange(12)\n",
        "t=np.arange(12)\n",
        "\n",
        "#set hyper parameter\n",
        "w=0.5\n",
        "b=0\n",
        "lr=0.0001\n",
        "loss_list=[]\n",
        "\n",
        "train_size=t.size\n",
        "batch_size=4\n",
        "K=train_size // batch_size\n",
        "\n",
        "for epoch in range(100):\n",
        "  loss=0\n",
        "  for step in range(K):\n",
        "    mask=np.random.choice(train_size, batch_size)\n",
        "    x_batch=x[mask]\n",
        "    t_batch=t[mask]\n",
        "\n",
        "    y= w*x_batch + b\n",
        "    dW=np.sum((y-t_batch)*x_batch)*2 / batch_size\n",
        "    dB=np.sum((y-t_batch))*2 / batch_size\n",
        "\n",
        "    w-= lr*dW\n",
        "    b-= lr*dB\n",
        "\n",
        "    y=w*x_batch + b\n",
        "    loss+=MSE(y, t_batch)\n",
        "  loss/=K\n",
        "  loss_list.append(loss)\n",
        "\n",
        "  if not epoch % 10: print(\"epoch={}: w={:>8.4f}, b={:>8.4f}, loss={:>8.4f}\".format(epoch, w, b, loss))\n",
        "\n",
        "print(\"w={:>8.4f}, b={:>8.4f}, loss={:>8.4f}\".format(w, b, loss))\n",
        "\n",
        "import matplotlib.pyplot as plt\n",
        "plt.plot(loss_list)\n",
        "plt.show()"
      ],
      "metadata": {
        "colab": {
          "base_uri": "https://localhost:8080/"
        },
        "id": "Jgikgr7iSNgu",
        "outputId": "6475ca31-ed2b-46e1-d67b-9ddeed89bb01"
      },
      "execution_count": null,
      "outputs": [
        {
          "output_type": "stream",
          "name": "stdout",
          "text": [
            "epoch=0: w=  0.5094, b=  0.0015, loss=  7.6908\n",
            "epoch=10: w=  0.6136, b=  0.0152, loss=  3.3681\n",
            "epoch=20: w=  0.7001, b=  0.0265, loss=  5.1572\n",
            "epoch=30: w=  0.7708, b=  0.0353, loss=  1.6832\n",
            "epoch=40: w=  0.8193, b=  0.0415, loss=  1.6821\n",
            "epoch=50: w=  0.8597, b=  0.0468, loss=  0.8679\n",
            "epoch=60: w=  0.8917, b=  0.0508, loss=  0.4422\n",
            "epoch=70: w=  0.9130, b=  0.0537, loss=  0.1934\n",
            "epoch=80: w=  0.9324, b=  0.0561, loss=  0.1766\n",
            "epoch=90: w=  0.9449, b=  0.0576, loss=  0.1045\n",
            "w=  0.9547, b=  0.0588, loss=  0.0826\n"
          ]
        },
        {
          "output_type": "display_data",
          "data": {
            "text/plain": [
              "<Figure size 432x288 with 1 Axes>"
            ],
            "image/png": "[encoded data removed]"
          },
          "metadata": {
            "needs_background": "light"
          }
        }
      ]
    },
    {
      "cell_type": "markdown",
      "source": [
        "#III auto derivative calculation"
      ],
      "metadata": {
        "id": "33HeeGKkZH5A"
      }
    },
    {
      "cell_type": "code",
      "source": [
        "import tensorflow as tf\n",
        "\n",
        "x=tf.Variable(2.0); y=tf.Variable(3.0)\n",
        "\n",
        "with tf.GradientTape() as tape: \n",
        "  z=x**2+y**2\n",
        "dx,dy=tape.gradient(z,[x,y]) #auto calculate partial derivative\n",
        "\n",
        "print(dx.numpy()); print(dy.numpy())"
      ],
      "metadata": {
        "colab": {
          "base_uri": "https://localhost:8080/"
        },
        "id": "FnHKHjCYZS9c",
        "outputId": "306e5ac5-fd74-4edd-f04c-47bd7ae9d615"
      },
      "execution_count": null,
      "outputs": [
        {
          "output_type": "stream",
          "name": "stdout",
          "text": [
            "4.0\n",
            "6.0\n"
          ]
        }
      ]
    },
    {
      "cell_type": "code",
      "source": [
        "import tensorflow as tf\n",
        "\n",
        "x=tf.Variable(2.0); y=tf.Variable(3.0)\n",
        "\n",
        "with tf.GradientTape(persistent=True) as tape: #persistnt is simply maintain function INF\n",
        "  tape.watch(x); \n",
        "  tape.watch(y)\n",
        "  z=x**2+y**2\n",
        "dx=tape.gradient(z,x)\n",
        "dy=tape.gradient(z,y)\n",
        "#dx,dy=tape.gradient(z,[x,y]) #auto calculate partial derivative\n",
        "\n",
        "print(dx.numpy()); print(dy.numpy())"
      ],
      "metadata": {
        "colab": {
          "base_uri": "https://localhost:8080/"
        },
        "id": "OxJLnP27apEo",
        "outputId": "44993d8e-7858-4796-c330-5c55a9653874"
      },
      "execution_count": null,
      "outputs": [
        {
          "output_type": "stream",
          "name": "stdout",
          "text": [
            "4.0\n",
            "6.0\n"
          ]
        }
      ]
    },
    {
      "cell_type": "code",
      "source": [
        "import tensorflow as tf\n",
        "\n",
        "x=tf.Variable(2.0); y=tf.Variable(3.0)\n",
        "\n",
        "with tf.GradientTape(watch_accessed_variables=False) as tape: #watch_accessed_variable is mean if you want GradientTape watch your Global variable\n",
        "  tape.watch(x); \n",
        "  tape.watch(y)\n",
        "  z=x**2+y**2\n",
        "\n",
        "dx,dy=tape.gradient(z,[x,y]) #auto calculate partial derivative\n",
        "\n",
        "print(dx.numpy()); print(dy.numpy())"
      ],
      "metadata": {
        "colab": {
          "base_uri": "https://localhost:8080/"
        },
        "id": "nOAgGRJ7b-sA",
        "outputId": "f556bceb-e339-467c-95ac-47ea05eb83f9"
      },
      "execution_count": null,
      "outputs": [
        {
          "output_type": "stream",
          "name": "stdout",
          "text": [
            "4.0\n",
            "6.0\n"
          ]
        }
      ]
    },
    {
      "cell_type": "code",
      "source": [
        "import tensorflow as tf\n",
        "\n",
        "x=tf.Variable(3.0)\n",
        "\n",
        "with tf.GradientTape() as tape2:\n",
        "  with tf.GradientTape() as tape1:\n",
        "    y= x**3\n",
        "  dy=tape1.gradient(y,x)\n",
        "dy2=tape2.gradient(dy,x)\n",
        "\n",
        "print(dy.numpy())\n",
        "print(dy2.numpy())"
      ],
      "metadata": {
        "colab": {
          "base_uri": "https://localhost:8080/"
        },
        "id": "Ut9RyuBxb-mc",
        "outputId": "9da37ed0-dc92-4c11-fbfa-99b6badd7773"
      },
      "execution_count": null,
      "outputs": [
        {
          "output_type": "stream",
          "name": "stdout",
          "text": [
            "27.0\n",
            "18.0\n"
          ]
        }
      ]
    },
    {
      "cell_type": "markdown",
      "source": [
        "#IV simple linear regression with tensorflow"
      ],
      "metadata": {
        "id": "pYqsTfz1uyTT"
      }
    },
    {
      "cell_type": "code",
      "source": [
        "import numpy as np\n",
        "import tensorflow as tf\n",
        "import matplotlib.pyplot as plt\n",
        "\n",
        "x=np.arange(12)\n",
        "t=np.arange(12)\n",
        "\n",
        "\n",
        "#hyper parameter\n",
        "w=tf.Variable(0.5)\n",
        "b=tf.Variable(0.0)\n",
        "\n",
        "lr=0.01\n",
        "\n",
        "loss_list=[]\n",
        "for epoch in range(100):\n",
        "  with tf.GradientTape() as tape:\n",
        "    y=w*x+b\n",
        "    loss=tf.reduce_mean(tf.square(y-t))\n",
        "  loss_list.append(loss)\n",
        "\n",
        "  dW, dB=tape.gradient(loss,[w,b]) #loss값을 기준으로 하는 w와 b의 편미분 값\n",
        "  w.assign_sub(dW*lr)\n",
        "  b.assign_sub(dB*lr)\n",
        "\n",
        "print(\"w={:>.4f}, b={:>.4f}, loss={:>.4f}\".format(w.numpy(), b.numpy(), loss.numpy()))\n",
        "\n",
        "plt.plot(loss_list)\n",
        "plt.show()"
      ],
      "metadata": {
        "colab": {
          "base_uri": "https://localhost:8080/",
          "height": 283
        },
        "id": "wK9WarpwkMly",
        "outputId": "486673c7-b11e-481f-a8fb-cf36d1bcc344"
      },
      "execution_count": null,
      "outputs": [
        {
          "output_type": "stream",
          "name": "stdout",
          "text": [
            "w=0.9951, b=0.0370, loss=0.0004\n"
          ]
        },
        {
          "output_type": "display_data",
          "data": {
            "text/plain": [
              "<Figure size 432x288 with 1 Axes>"
            ],
            "image/png": "[encoded data removed]"
          },
          "metadata": {
            "needs_background": "light"
          }
        }
      ]
    },
    {
      "cell_type": "code",
      "source": [
        "import numpy as np\n",
        "import tensorflow as tf\n",
        "import matplotlib.pyplot as plt\n",
        "\n",
        "x=np.arange(12)\n",
        "t=np.arange(12)\n",
        "\n",
        "#hyper parameter\n",
        "w=tf.Variable(0.5)\n",
        "b=tf.Variable(0.0)\n",
        "lr=0.01\n",
        "\n",
        "train_size=x.size\n",
        "batch_size=4\n",
        "K=train_size//batch_size\n",
        "\n",
        "loss_list=[]\n",
        "\n",
        "for epoch in range(100):\n",
        "  batch_loss=0.0\n",
        "  for step in range(K):\n",
        "    mask=np.random.choice(train_size, batch_size)\n",
        "    x_batch=x[mask]\n",
        "    t_batch=t[mask]\n",
        "\n",
        "    with tf.GradientTape() as tape:\n",
        "      y=w*x_batch + b\n",
        "      loss=tf.reduce_mean(tf.square(y-t_batch))\n",
        "\n",
        "    dW, dB = tape.gradient(loss,[w,b])\n",
        "    w.assign_sub(lr*dW)\n",
        "    b.assign_sub(lr*dB)\n",
        "    batch_loss += loss.numpy()\n",
        "\n",
        "  batch_loss/=K #loss의 평균 산출\n",
        "  loss_list.append(batch_loss)\n",
        "\n",
        "print(\"w={:>.4f}, b={:>.4f}, batch loss={:>.4f}\".format(w.numpy(), b.numpy(), batch_loss))\n",
        "\n",
        "plt.plot(loss_list)\n",
        "plt.show()  "
      ],
      "metadata": {
        "colab": {
          "base_uri": "https://localhost:8080/",
          "height": 283
        },
        "id": "nOkbSZwdpXQU",
        "outputId": "3eac1395-c01a-4d03-ad9f-58ecd6647f4a"
      },
      "execution_count": null,
      "outputs": [
        {
          "output_type": "stream",
          "name": "stdout",
          "text": [
            "w=0.9986, b=0.0104, batch loss=0.0000\n"
          ]
        },
        {
          "output_type": "display_data",
          "data": {
            "text/plain": [
              "<Figure size 432x288 with 1 Axes>"
            ],
            "image/png": "[encoded data removed]"
          },
          "metadata": {
            "needs_background": "light"
          }
        }
      ]
    },
    {
      "cell_type": "markdown",
      "source": [
        "#V.Multivariable Linear Regression"
      ],
      "metadata": {
        "id": "9MoCR1IpagrU"
      }
    },
    {
      "cell_type": "code",
      "source": [
        "import numpy as np\n",
        "import tensorflow as tf\n",
        "\n",
        "MSE=tf.keras.losses.MeanSquaredError()\n",
        "\n",
        "train_data=np.array([ #X is 8X2 array t is 8X1 array\n",
        "#   x1,x2,t\n",
        "    [1,0,4],\n",
        "    [2,0,5],\n",
        "    [3,0,6],\n",
        "    [4,0,7],\n",
        "    [1,1,6],\n",
        "    [2,1,7],\n",
        "    [3,1,8],\n",
        "    [4,1,9]], dtype=np.float32\n",
        ")\n",
        "\n",
        "X=train_data[:,:-1]\n",
        "t=train_data[:,-1:]\n",
        "print('X:',X)\n",
        "print('t:',t)\n",
        "\n",
        "tf.random.set_seed(1)\n",
        "W=tf.Variable(tf.random.normal(shape=[2,1]),) #2X1 array\n",
        "b=tf.Variable(tf.random.normal(shape=[1]))\n",
        "print(\"W=\",W.numpy())\n",
        "print(\"b=\",b.numpy())\n",
        "\n",
        "y=tf.matmul(X,W)+b\n",
        "print(\"y:\",y)\n",
        "\n",
        "loss=MSE(y,t)\n",
        "print(\"MSE:\",loss.numpy())"
      ],
      "metadata": {
        "id": "X2WTnK6taxIh",
        "outputId": "c4000736-ce6e-48de-e10b-dbb0e9103247",
        "colab": {
          "base_uri": "https://localhost:8080/"
        }
      },
      "execution_count": 7,
      "outputs": [
        {
          "output_type": "stream",
          "name": "stdout",
          "text": [
            "X: [[1. 0.]\n",
            " [2. 0.]\n",
            " [3. 0.]\n",
            " [4. 0.]\n",
            " [1. 1.]\n",
            " [2. 1.]\n",
            " [3. 1.]\n",
            " [4. 1.]]\n",
            "t: [[4.]\n",
            " [5.]\n",
            " [6.]\n",
            " [7.]\n",
            " [6.]\n",
            " [7.]\n",
            " [8.]\n",
            " [9.]]\n",
            "W= [[-1.1012203]\n",
            " [ 1.5457517]]\n",
            "b= [0.40308788]\n",
            "y: tf.Tensor(\n",
            "[[-0.6981324 ]\n",
            " [-1.7993526 ]\n",
            " [-2.900573  ]\n",
            " [-4.001793  ]\n",
            " [ 0.8476193 ]\n",
            " [-0.25360093]\n",
            " [-1.3548213 ]\n",
            " [-2.4560416 ]], shape=(8, 1), dtype=float32)\n",
            "MSE: 70.80983\n"
          ]
        }
      ]
    },
    {
      "cell_type": "code",
      "source": [
        "from tensorflow.python.eager.backprop import GradientTape\n",
        "import numpy as np\n",
        "import tensorflow as tf\n",
        "import matplotlib.pyplot as plt\n",
        "\n",
        "MSE=tf.keras.losses.MeanSquaredError()\n",
        "\n",
        "\n",
        "train_data=np.array([ #X is 8X2 array t is 8X1 array\n",
        "#   x1,x2,t\n",
        "    [1,0,4],\n",
        "    [2,0,5],\n",
        "    [3,0,6],\n",
        "    [4,0,7],\n",
        "    [1,1,6],\n",
        "    [2,1,7],\n",
        "    [3,1,8],\n",
        "    [4,1,9]], dtype=np.float32\n",
        ")\n",
        "\n",
        "X=train_data[:,:-1]\n",
        "t=train_data[:,-1:]\n",
        "print('X:',X)\n",
        "print('t:',t)\n",
        "\n",
        "tf.random.set_seed(1)\n",
        "W=tf.Variable(tf.random.normal(shape=[2,1]),) #2X1 array\n",
        "b=tf.Variable(tf.random.normal(shape=[1]))\n",
        "loss_list=[]\n",
        "lr=0.001\n",
        "\n",
        "for epoch in range(10000):\n",
        "  with tf.GradientTape() as tape:\n",
        "    y=tf.matmul(X,W)+b\n",
        "    loss=MSE(y,t)\n",
        "  loss_list.append(loss)\n",
        "  dW,dB=tape.gradient(loss,[W,b])\n",
        "  W.assign_sub(lr*dW)\n",
        "  b.assign_sub(lr*dB)\n",
        "\n",
        "print(\"w={}, b={}, loss={}\".format(W.numpy(), b.numpy(), loss.numpy()))\n",
        "\n",
        "plt.plot(loss_list)\n",
        "plt.show()"
      ],
      "metadata": {
        "id": "AA-atsz0gB8K",
        "outputId": "d7b631f3-bf28-4408-e91a-d08c624d5740",
        "colab": {
          "base_uri": "https://localhost:8080/",
          "height": 760
        }
      },
      "execution_count": 21,
      "outputs": [
        {
          "output_type": "stream",
          "name": "stdout",
          "text": [
            "X: [[1. 0.]\n",
            " [2. 0.]\n",
            " [3. 0.]\n",
            " [4. 0.]\n",
            " [1. 1.]\n",
            " [2. 1.]\n",
            " [3. 1.]\n",
            " [4. 1.]]\n",
            "t: [[4.]\n",
            " [5.]\n",
            " [6.]\n",
            " [7.]\n",
            " [6.]\n",
            " [7.]\n",
            " [8.]\n",
            " [9.]]\n",
            "w=[[1.0357455]\n",
            " [2.059502 ]], b=[2.8647404], loss=0.002744261408224702\n"
          ]
        },
        {
          "output_type": "display_data",
          "data": {
            "text/plain": [
              "<Figure size 640x480 with 1 Axes>"
            ],
            "image/png": "[encoded data removed]"
          },
          "metadata": {}
        }
      ]
    },
    {
      "cell_type": "code",
      "source": [
        "from tensorflow.python.eager.backprop import GradientTape\n",
        "import numpy as np\n",
        "import tensorflow as tf\n",
        "import matplotlib.pyplot as plt\n",
        "\n",
        "MSE=tf.keras.losses.MeanSquaredError()\n",
        "\n",
        "\n",
        "train_data=np.array([ #X is 8X2 array t is 8X1 array\n",
        "#   x1,x2,t\n",
        "    [1,0,4],\n",
        "    [2,0,5],\n",
        "    [3,0,6],\n",
        "    [4,0,7],\n",
        "    [1,1,6],\n",
        "    [2,1,7],\n",
        "    [3,1,8],\n",
        "    [4,1,9]], dtype=np.float32\n",
        ")\n",
        "\n",
        "X=train_data[:,:-1]\n",
        "t=train_data[:,-1:]\n",
        "print('X:',X)\n",
        "print('t:',t)\n",
        "\n",
        "tf.random.set_seed(1)\n",
        "W=tf.Variable(tf.random.normal(shape=[2,1]),) #2X1 array\n",
        "b=tf.Variable(tf.random.normal(shape=[1]))\n",
        "loss_list=[]\n",
        "lr=0.01\n",
        "\n",
        "train_size=X.shape[0]\n",
        "batch_size=4\n",
        "K=train_size//batch_size\n",
        "\n",
        "for epoch in range(1000):\n",
        "  batch_loss=0.0\n",
        "  for step in range(K):\n",
        "    mask=np.random.choice(train_size, batch_size)\n",
        "    X_mask=X[mask]\n",
        "    t_mask=t[mask]\n",
        "\n",
        "    with tf.GradientTape() as tape:\n",
        "      y=tf.matmul(X_mask,W) + b\n",
        "      loss=MSE(y,t_mask)\n",
        "\n",
        "    batch_loss+=loss.numpy()\n",
        "\n",
        "    dW, dB = tape.gradient(loss, [W,b])\n",
        "    W.assign_sub(lr*dW)\n",
        "    b.assign_sub(lr*dB)\n",
        "\n",
        "  batch_loss/=K\n",
        "  loss_list.append(batch_loss)\n",
        "\n",
        "print(\"w={}, b={}, loss={}\".format(W.numpy(), b.numpy(), loss.numpy()))\n",
        "\n",
        "plt.plot(loss_list)\n",
        "plt.show()"
      ],
      "metadata": {
        "id": "ECR0EzzIluZ-",
        "outputId": "502bda9b-6d56-49a6-a750-20751b8fe38b",
        "colab": {
          "base_uri": "https://localhost:8080/",
          "height": 760
        }
      },
      "execution_count": 45,
      "outputs": [
        {
          "output_type": "stream",
          "name": "stdout",
          "text": [
            "X: [[1. 0.]\n",
            " [2. 0.]\n",
            " [3. 0.]\n",
            " [4. 0.]\n",
            " [1. 1.]\n",
            " [2. 1.]\n",
            " [3. 1.]\n",
            " [4. 1.]]\n",
            "t: [[4.]\n",
            " [5.]\n",
            " [6.]\n",
            " [7.]\n",
            " [6.]\n",
            " [7.]\n",
            " [8.]\n",
            " [9.]]\n",
            "w=[[1.0034047]\n",
            " [2.0057724]], b=[2.987491], loss=1.3143091564415954e-05\n"
          ]
        },
        {
          "output_type": "display_data",
          "data": {
            "text/plain": [
              "<Figure size 640x480 with 1 Axes>"
            ],
            "image/png": "[encoded data removed]"
          },
          "metadata": {}
        }
      ]
    },
    {
      "cell_type": "markdown",
      "source": [
        "# VI training with tf.keras.optimizers"
      ],
      "metadata": {
        "id": "N8Ar9kFGoqW8"
      }
    },
    {
      "cell_type": "code",
      "source": [
        "import tensorflow as tf\n",
        "import matplotlib.pyplot as plt\n",
        "\n",
        "x=tf.Variable(2.0)\n",
        "y=tf.Variable(3.0)\n",
        "\n",
        "opt=tf.keras.optimizers.SGD(learning_rate=0.1)\n",
        "#opt=tf.keras.optimiziers.Adagrad(0.1)\n",
        "#opt=tf.keras.optimiziers.Adam(0.1)\n",
        "#opt=tf.keras.optimiziers.RSMprop(0.1)\n",
        "\n",
        "loss_list=[]\n",
        "for epoch in range(int(1e3)):\n",
        "  with tf.GradientTape() as tape:\n",
        "    loss= x**2+y**2\n",
        "  loss_list.append(loss)\n",
        "\n",
        "  dx, dy= tape.gradient(loss,[x,y])\n",
        "  grads_and_vars=zip([dx,dy],[x,y]) #make contents array pair like (dx,x) (dy,y)\n",
        "  opt.apply_gradients(grads_and_vars) #input \tList of (gradient, variable) pairs.\n",
        "\n",
        "\n",
        "\n",
        "print(\"w={:.5f}, b={:.5f}, loss={}\".format(x.numpy(), y.numpy(), loss.numpy()))\n",
        "\n",
        "plt.plot(loss_list)\n",
        "plt.show()"
      ],
      "metadata": {
        "id": "NGNUnOMxoyDH",
        "outputId": "64a6b8d1-be34-4bf9-a095-d1772fe50e67",
        "colab": {
          "base_uri": "https://localhost:8080/",
          "height": 448
        }
      },
      "execution_count": 48,
      "outputs": [
        {
          "output_type": "stream",
          "name": "stdout",
          "text": [
            "w=0.00000, b=0.00000, loss=0.0\n"
          ]
        },
        {
          "output_type": "display_data",
          "data": {
            "text/plain": [
              "<Figure size 640x480 with 1 Axes>"
            ],
            "image/png": "[encoded data removed]"
          },
          "metadata": {}
        }
      ]
    },
    {
      "cell_type": "code",
      "source": [
        "import tensorflow as tf\n",
        "import matplotlib.pyplot as plt\n",
        "\n",
        "x=tf.Variable(2.0)\n",
        "y=tf.Variable(3.0)\n",
        "\n",
        "opt=tf.keras.optimizers.SGD(learning_rate=0.1)\n",
        "#opt=tf.keras.optimiziers.Adagrad(0.1)\n",
        "#opt=tf.keras.optimiziers.Adam(0.1)\n",
        "#opt=tf.keras.optimiziers.RSMprop(0.1)\n",
        "\n",
        "loss_list=[]\n",
        "for epoch in range(int(1e3)):\n",
        "  loss=lambda: x**2+y**2\n",
        "  loss_list.append(loss().numpy())\n",
        "\n",
        "  opt.minimize(loss, var_list=[x,y]) #this function calculate under 3 function at once\n",
        "\n",
        "  #dx, dy= tape.gradient(loss,[x,y])\n",
        "  #grads_and_vars=zip([dx,dy],[x,y]) \n",
        "  #opt.apply_gradients(grads_and_vars) \n",
        "\n",
        "  if not epoch % 10:\n",
        "    print(\"epoch={}, error={}\".format(epoch, loss().numpy()))\n",
        "\n",
        "print(\"w={:.5f}, b={:.5f}, loss={}\".format(x.numpy(), y.numpy(), loss().numpy()))\n",
        "\n",
        "plt.plot(loss_list)\n",
        "plt.show()"
      ],
      "metadata": {
        "id": "FLiLqHF2vr5z",
        "outputId": "12593114-bc83-47ec-ea73-34246e91c0c6",
        "colab": {
          "base_uri": "https://localhost:8080/",
          "height": 1000
        }
      },
      "execution_count": 37,
      "outputs": [
        {
          "output_type": "stream",
          "name": "stdout",
          "text": [
            "epoch=0, error=8.320000648498535\n",
            "epoch=10, error=0.09592308104038239\n",
            "epoch=20, error=0.001105917850509286\n",
            "epoch=30, error=1.275036447623279e-05\n",
            "epoch=40, error=1.4700168549097725e-07\n",
            "epoch=50, error=1.6948142889106066e-09\n",
            "epoch=60, error=1.9539881865315856e-11\n",
            "epoch=70, error=2.25279511842022e-13\n",
            "epoch=80, error=2.5972956661649612e-15\n",
            "epoch=90, error=2.9944778589921956e-17\n",
            "epoch=100, error=3.4523980357458603e-19\n",
            "epoch=110, error=3.9803438321975854e-21\n",
            "epoch=120, error=4.5890247667240876e-23\n",
            "epoch=130, error=5.290785567247384e-25\n",
            "epoch=140, error=6.099860786645652e-27\n",
            "epoch=150, error=7.032659581082592e-29\n",
            "epoch=160, error=8.1081048805595e-31\n",
            "epoch=170, error=9.348008622318852e-33\n",
            "epoch=180, error=1.0777519955514143e-34\n",
            "epoch=190, error=1.2425634997087808e-36\n",
            "epoch=200, error=0.0\n",
            "epoch=210, error=0.0\n",
            "epoch=220, error=0.0\n",
            "epoch=230, error=0.0\n",
            "epoch=240, error=0.0\n",
            "epoch=250, error=0.0\n",
            "epoch=260, error=0.0\n",
            "epoch=270, error=0.0\n",
            "epoch=280, error=0.0\n",
            "epoch=290, error=0.0\n",
            "epoch=300, error=0.0\n",
            "epoch=310, error=0.0\n",
            "epoch=320, error=0.0\n",
            "epoch=330, error=0.0\n",
            "epoch=340, error=0.0\n",
            "epoch=350, error=0.0\n",
            "epoch=360, error=0.0\n",
            "epoch=370, error=0.0\n",
            "epoch=380, error=0.0\n",
            "epoch=390, error=0.0\n",
            "epoch=400, error=0.0\n",
            "epoch=410, error=0.0\n",
            "epoch=420, error=0.0\n",
            "epoch=430, error=0.0\n",
            "epoch=440, error=0.0\n",
            "epoch=450, error=0.0\n",
            "epoch=460, error=0.0\n",
            "epoch=470, error=0.0\n",
            "epoch=480, error=0.0\n",
            "epoch=490, error=0.0\n",
            "epoch=500, error=0.0\n",
            "epoch=510, error=0.0\n",
            "epoch=520, error=0.0\n",
            "epoch=530, error=0.0\n",
            "epoch=540, error=0.0\n",
            "epoch=550, error=0.0\n",
            "epoch=560, error=0.0\n",
            "epoch=570, error=0.0\n",
            "epoch=580, error=0.0\n",
            "epoch=590, error=0.0\n",
            "epoch=600, error=0.0\n",
            "epoch=610, error=0.0\n",
            "epoch=620, error=0.0\n",
            "epoch=630, error=0.0\n",
            "epoch=640, error=0.0\n",
            "epoch=650, error=0.0\n",
            "epoch=660, error=0.0\n",
            "epoch=670, error=0.0\n",
            "epoch=680, error=0.0\n",
            "epoch=690, error=0.0\n",
            "epoch=700, error=0.0\n",
            "epoch=710, error=0.0\n",
            "epoch=720, error=0.0\n",
            "epoch=730, error=0.0\n",
            "epoch=740, error=0.0\n",
            "epoch=750, error=0.0\n",
            "epoch=760, error=0.0\n",
            "epoch=770, error=0.0\n",
            "epoch=780, error=0.0\n",
            "epoch=790, error=0.0\n",
            "epoch=800, error=0.0\n",
            "epoch=810, error=0.0\n",
            "epoch=820, error=0.0\n",
            "epoch=830, error=0.0\n",
            "epoch=840, error=0.0\n",
            "epoch=850, error=0.0\n",
            "epoch=860, error=0.0\n",
            "epoch=870, error=0.0\n",
            "epoch=880, error=0.0\n",
            "epoch=890, error=0.0\n",
            "epoch=900, error=0.0\n",
            "epoch=910, error=0.0\n",
            "epoch=920, error=0.0\n",
            "epoch=930, error=0.0\n",
            "epoch=940, error=0.0\n",
            "epoch=950, error=0.0\n",
            "epoch=960, error=0.0\n",
            "epoch=970, error=0.0\n",
            "epoch=980, error=0.0\n",
            "epoch=990, error=0.0\n",
            "w=0.00000, b=0.00000, loss=0.0\n"
          ]
        },
        {
          "output_type": "display_data",
          "data": {
            "text/plain": [
              "<Figure size 640x480 with 1 Axes>"
            ],
            "image/png": "[encoded data removed]"
          },
          "metadata": {}
        }
      ]
    },
    {
      "cell_type": "code",
      "source": [
        "from tensorflow.python.eager.backprop import GradientTape\n",
        "import numpy as np\n",
        "import tensorflow as tf\n",
        "import matplotlib.pyplot as plt\n",
        "\n",
        "MSE=tf.keras.losses.MeanSquaredError()\n",
        "def mse_loss():\n",
        "  y=tf.matmul(X,W)+b\n",
        "  return MSE(y,t)\n",
        "\n",
        "opt=tf.keras.optimizers.SGD(learning_rate=0.1)\n",
        "#opt=tf.keras.optimiziers.Adagrad(0.1)\n",
        "#opt=tf.keras.optimiziers.Adam(0.1)\n",
        "#opt=tf.keras.optimiziers.RSMprop(0.1)\n",
        "\n",
        "train_data=np.array([ #X is 8X2 array t is 8X1 array\n",
        "#   x1,x2,t\n",
        "    [1,0,4],\n",
        "    [2,0,5],\n",
        "    [3,0,6],\n",
        "    [4,0,7],\n",
        "    [1,1,6],\n",
        "    [2,1,7],\n",
        "    [3,1,8],\n",
        "    [4,1,9]], dtype=np.float32\n",
        ")\n",
        "\n",
        "X=train_data[:,:-1]\n",
        "t=train_data[:,-1:]\n",
        "print('X:',X)\n",
        "print('t:',t)\n",
        "\n",
        "tf.random.set_seed(1)\n",
        "W=tf.Variable(tf.random.normal(shape=[2,1]),) #2X1 array\n",
        "b=tf.Variable(tf.random.normal(shape=[1]))\n",
        "loss_list=[]\n",
        "lr=0.01\n",
        "\n",
        "train_size=X.shape[0]\n",
        "batch_size=4\n",
        "K=train_size//batch_size\n",
        "\n",
        "for epoch in range(1000):\n",
        "  opt.minimize(mse_loss, var_list=[W,b])\n",
        "\n",
        "  loss=mse_loss().numpy()\n",
        "  loss_list.append(loss)\n",
        "\n",
        "print(\"w={}, b={}, loss={}\".format(W.numpy(), b.numpy(), loss))\n",
        "\n",
        "plt.plot(loss_list)\n",
        "plt.show()"
      ],
      "metadata": {
        "id": "ZTymJNOo2eFk",
        "outputId": "c8759d7f-2f95-4300-abd7-06be7411323e",
        "colab": {
          "base_uri": "https://localhost:8080/",
          "height": 760
        }
      },
      "execution_count": 42,
      "outputs": [
        {
          "output_type": "stream",
          "name": "stdout",
          "text": [
            "X: [[1. 0.]\n",
            " [2. 0.]\n",
            " [3. 0.]\n",
            " [4. 0.]\n",
            " [1. 1.]\n",
            " [2. 1.]\n",
            " [3. 1.]\n",
            " [4. 1.]]\n",
            "t: [[4.]\n",
            " [5.]\n",
            " [6.]\n",
            " [7.]\n",
            " [6.]\n",
            " [7.]\n",
            " [8.]\n",
            " [9.]]\n",
            "w=[[1.0000007]\n",
            " [2.000002 ]], b=[2.999997], loss=1.8758328224066645e-12\n"
          ]
        },
        {
          "output_type": "display_data",
          "data": {
            "text/plain": [
              "<Figure size 640x480 with 1 Axes>"
            ],
            "image/png": "[encoded data removed]"
          },
          "metadata": {}
        }
      ]
    },
    {
      "cell_type": "code",
      "source": [
        "from tensorflow.python.eager.backprop import GradientTape\n",
        "import numpy as np\n",
        "import tensorflow as tf\n",
        "import matplotlib.pyplot as plt\n",
        "\n",
        "MSE=tf.keras.losses.MeanSquaredError()\n",
        "def mse_loss():\n",
        "  y=tf.matmul(X_mask,W)+b\n",
        "  return MSE(y,t_mask)\n",
        "\n",
        "opt=tf.keras.optimizers.SGD(learning_rate=0.1)\n",
        "#opt=tf.keras.optimiziers.Adagrad(0.1)\n",
        "#opt=tf.keras.optimiziers.Adam(0.1)\n",
        "#opt=tf.keras.optimiziers.RSMprop(0.1)\n",
        "\n",
        "train_data=np.array([ #X is 8X2 array t is 8X1 array\n",
        "#   x1,x2,t\n",
        "    [1,0,4],\n",
        "    [2,0,5],\n",
        "    [3,0,6],\n",
        "    [4,0,7],\n",
        "    [1,1,6],\n",
        "    [2,1,7],\n",
        "    [3,1,8],\n",
        "    [4,1,9]], dtype=np.float32\n",
        ")\n",
        "\n",
        "X=train_data[:,:-1]\n",
        "t=train_data[:,-1:]\n",
        "print('X:',X)\n",
        "print('t:',t)\n",
        "\n",
        "tf.random.set_seed(1)\n",
        "W=tf.Variable(tf.random.normal(shape=[2,1]),) #2X1 array\n",
        "b=tf.Variable(tf.random.normal(shape=[1]))\n",
        "\n",
        "train_size=X.shape[0]\n",
        "batch_size=4\n",
        "K=train_size//batch_size\n",
        "\n",
        "loss_list=[]\n",
        "for epoch in range(1000):\n",
        "  batch_loss=0.0\n",
        "  for step in range(K):\n",
        "    mask=np.random.choice(train_size, batch_size)\n",
        "    X_mask=X[mask]\n",
        "    t_mask=t[mask]\n",
        "\n",
        "    opt.minimize(mse_loss,var_list=[W,b])\n",
        "    loss=mse_loss().numpy()\n",
        "    batch_loss+=loss\n",
        "\n",
        "  batch_loss/=K\n",
        "  loss_list.append(batch_loss)\n",
        "\n",
        "print(\"w={}, b={}, loss={}\".format(W.numpy(), b.numpy(), loss))\n",
        "\n",
        "plt.plot(loss_list)\n",
        "plt.show()"
      ],
      "metadata": {
        "id": "cXhigjcM6LB0",
        "outputId": "3f7831f3-439a-4d00-f5fe-21f801a01fe0",
        "colab": {
          "base_uri": "https://localhost:8080/",
          "height": 760
        }
      },
      "execution_count": 49,
      "outputs": [
        {
          "output_type": "stream",
          "name": "stdout",
          "text": [
            "X: [[1. 0.]\n",
            " [2. 0.]\n",
            " [3. 0.]\n",
            " [4. 0.]\n",
            " [1. 1.]\n",
            " [2. 1.]\n",
            " [3. 1.]\n",
            " [4. 1.]]\n",
            "t: [[4.]\n",
            " [5.]\n",
            " [6.]\n",
            " [7.]\n",
            " [6.]\n",
            " [7.]\n",
            " [8.]\n",
            " [9.]]\n",
            "w=[[1.       ]\n",
            " [2.0000005]], b=[2.9999998], loss=0.0\n"
          ]
        },
        {
          "output_type": "display_data",
          "data": {
            "text/plain": [
              "<Figure size 640x480 with 1 Axes>"
            ],
            "image/png": "[encoded data removed]"
          },
          "metadata": {}
        }
      ]
    },
    {
      "cell_type": "markdown",
      "source": [
        "# VII 다항식 회귀\n"
      ],
      "metadata": {
        "id": "pby3LnS8fvdA"
      }
    },
    {
      "cell_type": "code",
      "source": [
        "import tensorflow as tf\n",
        "import numpy as np\n",
        "import matplotlib.pyplot as plt\n",
        "\n",
        "MSE=tf.keras.losses.MeanSquaredError()\n",
        "def mse_loss():\n",
        "  y=x*w+b\n",
        "  return MSE(y,t)\n",
        "\n",
        "\n",
        "EPOCH=1000;train_size=20\n",
        "\n",
        "tf.random.set_seed(1)\n",
        "x=tf.linspace(0.0,10.0,num=train_size)\n",
        "w_true, b_true = 3, -10\n",
        "t= x * w_true + b_true + tf.random.normal([train_size], mean=0.0, stddev=2.0)\n",
        "\n",
        "w=tf.Variable(tf.random.normal([]))\n",
        "b=tf.Variable(tf.random.normal([]))\n",
        "\n",
        "opt=tf.keras.optimizers.SGD(0.01)\n",
        "\n",
        "loss_list=[]\n",
        "for epoch in range(EPOCH):\n",
        "  opt.minimize(mse_loss,[w,b])\n",
        "\n",
        "  loss=mse_loss().numpy()\n",
        "  loss_list.append(loss)\n",
        "\n",
        "  if not epoch % 100: print(\"epoch={} loss={}\".format(epoch, loss))\n",
        "\n",
        "print(\"w={:>4f}, b={:>4f}, loss={}\".format(w.numpy(), b.numpy(), loss))\n",
        "\n",
        "plt.plot(loss_list)\n",
        "plt.show()\n",
        "\n",
        "plt.scatter(x,t.numpy())\n",
        "w_pred, b_pred= w.numpy(), b.numpy()\n",
        "t_pred=x * w_pred + b_pred\n",
        "plt.plot(x, t_pred, 'r-')\n",
        "plt.show()"
      ],
      "metadata": {
        "id": "sOIdLhDZf5pJ",
        "outputId": "f9d9a94b-ed23-4168-d0dc-8ac6186acf6f",
        "colab": {
          "base_uri": "https://localhost:8080/",
          "height": 1000
        }
      },
      "execution_count": 6,
      "outputs": [
        {
          "output_type": "stream",
          "name": "stdout",
          "text": [
            "epoch=0 loss=37.226837158203125\n",
            "epoch=100 loss=12.824580192565918\n",
            "epoch=200 loss=5.855209827423096\n",
            "epoch=300 loss=3.433420181274414\n",
            "epoch=400 loss=2.5918679237365723\n",
            "epoch=500 loss=2.2994384765625\n",
            "epoch=600 loss=2.197822093963623\n",
            "epoch=700 loss=2.162510871887207\n",
            "epoch=800 loss=2.1502411365509033\n",
            "epoch=900 loss=2.14597749710083\n",
            "w=3.135888, b=-10.972524, loss=2.1445038318634033\n"
          ]
        },
        {
          "output_type": "display_data",
          "data": {
            "text/plain": [
              "<Figure size 640x480 with 1 Axes>"
            ],
            "image/png": "[encoded data removed]"
          },
          "metadata": {}
        },
        {
          "output_type": "display_data",
          "data": {
            "text/plain": [
              "<Figure size 640x480 with 1 Axes>"
            ],
            "image/png": "[encoded data removed]"
          },
          "metadata": {}
        }
      ]
    },
    {
      "cell_type": "code",
      "source": [
        "import tensorflow as tf\n",
        "import numpy as np\n",
        "import matplotlib.pyplot as plt\n",
        "\n",
        "MSE=tf.keras.losses.MeanSquaredError()\n",
        "def mse_loss():\n",
        "  y=a * x ** 2 + b * x + c\n",
        "  return MSE(y,t)\n",
        "\n",
        "\n",
        "EPOCH=1000;train_size=20\n",
        "#2\n",
        "tf.random.set_seed(1)\n",
        "x=tf.linspace(-5.0,5.0,num=train_size)\n",
        "\n",
        "a_true =tf.Variable(3.0)\n",
        "b_true =tf.Variable(2.0)\n",
        "c_true =tf.Variable(1.0)\n",
        "\n",
        "t=a_true*tf.pow(x,2) + b_true*x + c_true #2\n",
        "t+= tf.random.normal([train_size], mean=0.0, stddev=2) #2\n",
        "\n",
        "a=tf.Variable(tf.random.normal([]))\n",
        "b=tf.Variable(tf.random.normal([]))\n",
        "c=tf.Variable(tf.random.normal([]))\n",
        "\n",
        "opt=tf.keras.optimizers.SGD(0.001)\n",
        "\n",
        "loss_list=[]\n",
        "for epoch in range(EPOCH):\n",
        "  opt.minimize(mse_loss, [a,b,c])\n",
        "\n",
        "  loss=mse_loss().numpy()\n",
        "  loss_list.append(loss)\n",
        "\n",
        "  if not epoch % 10: print(\"epoch={} loss={}\".format(epoch, loss))\n",
        "\n",
        "print(\"a={} b={} c={} loss={}\".format(a.numpy(), b.numpy(), c.numpy(), loss)) #2\n",
        "plt.plot(loss_list)\n",
        "plt.show()\n",
        "\n",
        "plt.scatter(x,t.numpy())\n",
        "t_pred=a*tf.pow(x,2) + b*2 +c #2\n",
        "plt.plot(x, t_pred, 'r-')\n",
        "plt.show()"
      ],
      "metadata": {
        "id": "OJHnIw0ulTG4",
        "outputId": "cf507c11-6657-4872-f8cd-4540c11868b1",
        "colab": {
          "base_uri": "https://localhost:8080/",
          "height": 1000
        }
      },
      "execution_count": 9,
      "outputs": [
        {
          "output_type": "stream",
          "name": "stdout",
          "text": [
            "epoch=0 loss=544.3561401367188\n",
            "epoch=10 loss=44.855995178222656\n",
            "epoch=20 loss=31.653961181640625\n",
            "epoch=30 loss=22.77134132385254\n",
            "epoch=40 loss=16.641324996948242\n",
            "epoch=50 loss=12.409049987792969\n",
            "epoch=60 loss=9.485268592834473\n",
            "epoch=70 loss=7.463749885559082\n",
            "epoch=80 loss=6.064394474029541\n",
            "epoch=90 loss=5.094084739685059\n",
            "epoch=100 loss=4.4196858406066895\n",
            "epoch=110 loss=3.9493942260742188\n",
            "epoch=120 loss=3.6199183464050293\n",
            "epoch=130 loss=3.387617826461792\n",
            "epoch=140 loss=3.222407817840576\n",
            "epoch=150 loss=3.1035397052764893\n",
            "epoch=160 loss=3.016713857650757\n",
            "epoch=170 loss=2.952064037322998\n",
            "epoch=180 loss=2.902780771255493\n",
            "epoch=190 loss=2.8641812801361084\n",
            "epoch=200 loss=2.833024263381958\n",
            "epoch=210 loss=2.807081699371338\n",
            "epoch=220 loss=2.784810781478882\n",
            "epoch=230 loss=2.765145778656006\n",
            "epoch=240 loss=2.7473573684692383\n",
            "epoch=250 loss=2.730928421020508\n",
            "epoch=260 loss=2.715519428253174\n",
            "epoch=270 loss=2.700878381729126\n",
            "epoch=280 loss=2.686842679977417\n",
            "epoch=290 loss=2.6732840538024902\n",
            "epoch=300 loss=2.660134792327881\n",
            "epoch=310 loss=2.6473231315612793\n",
            "epoch=320 loss=2.634815216064453\n",
            "epoch=330 loss=2.6225807666778564\n",
            "epoch=340 loss=2.6105971336364746\n",
            "epoch=350 loss=2.5988481044769287\n",
            "epoch=360 loss=2.587324857711792\n",
            "epoch=370 loss=2.576012134552002\n",
            "epoch=380 loss=2.5649056434631348\n",
            "epoch=390 loss=2.554001569747925\n",
            "epoch=400 loss=2.5432887077331543\n",
            "epoch=410 loss=2.532768964767456\n",
            "epoch=420 loss=2.5224361419677734\n",
            "epoch=430 loss=2.5122814178466797\n",
            "epoch=440 loss=2.5023090839385986\n",
            "epoch=450 loss=2.4925103187561035\n",
            "epoch=460 loss=2.482884407043457\n",
            "epoch=470 loss=2.4734270572662354\n",
            "epoch=480 loss=2.464132070541382\n",
            "epoch=490 loss=2.455003023147583\n",
            "epoch=500 loss=2.446033000946045\n",
            "epoch=510 loss=2.437220335006714\n",
            "epoch=520 loss=2.428558111190796\n",
            "epoch=530 loss=2.4200501441955566\n",
            "epoch=540 loss=2.4116904735565186\n",
            "epoch=550 loss=2.403482675552368\n",
            "epoch=560 loss=2.395411968231201\n",
            "epoch=570 loss=2.387484312057495\n",
            "epoch=580 loss=2.3796963691711426\n",
            "epoch=590 loss=2.372041702270508\n",
            "epoch=600 loss=2.364523410797119\n",
            "epoch=610 loss=2.3571343421936035\n",
            "epoch=620 loss=2.3498778343200684\n",
            "epoch=630 loss=2.342745542526245\n",
            "epoch=640 loss=2.335737466812134\n",
            "epoch=650 loss=2.3288586139678955\n",
            "epoch=660 loss=2.322092056274414\n",
            "epoch=670 loss=2.3154447078704834\n",
            "epoch=680 loss=2.30891752243042\n",
            "epoch=690 loss=2.3025014400482178\n",
            "epoch=700 loss=2.2961974143981934\n",
            "epoch=710 loss=2.290010690689087\n",
            "epoch=720 loss=2.2839226722717285\n",
            "epoch=730 loss=2.2779438495635986\n",
            "epoch=740 loss=2.2720704078674316\n",
            "epoch=750 loss=2.2662999629974365\n",
            "epoch=760 loss=2.260632276535034\n",
            "epoch=770 loss=2.255061626434326\n",
            "epoch=780 loss=2.2495884895324707\n",
            "epoch=790 loss=2.244211196899414\n",
            "epoch=800 loss=2.238931179046631\n",
            "epoch=810 loss=2.233738422393799\n",
            "epoch=820 loss=2.228637933731079\n",
            "epoch=830 loss=2.2236287593841553\n",
            "epoch=840 loss=2.218705415725708\n",
            "epoch=850 loss=2.21386981010437\n",
            "epoch=860 loss=2.209117889404297\n",
            "epoch=870 loss=2.204446792602539\n",
            "epoch=880 loss=2.199860095977783\n",
            "epoch=890 loss=2.1953542232513428\n",
            "epoch=900 loss=2.1909241676330566\n",
            "epoch=910 loss=2.186574935913086\n",
            "epoch=920 loss=2.182297945022583\n",
            "epoch=930 loss=2.178098201751709\n",
            "epoch=940 loss=2.1739680767059326\n",
            "epoch=950 loss=2.169917583465576\n",
            "epoch=960 loss=2.165933847427368\n",
            "epoch=970 loss=2.1620187759399414\n",
            "epoch=980 loss=2.1581737995147705\n",
            "epoch=990 loss=2.1543972492218018\n",
            "a=3.013002395629883 b=2.1438965797424316 c=0.8757456541061401 loss=2.151054859161377\n"
          ]
        },
        {
          "output_type": "display_data",
          "data": {
            "text/plain": [
              "<Figure size 640x480 with 1 Axes>"
            ],
            "image/png": "[encoded data removed]"
          },
          "metadata": {}
        },
        {
          "output_type": "display_data",
          "data": {
            "text/plain": [
              "<Figure size 640x480 with 1 Axes>"
            ],
            "image/png": "[encoded data removed]"
          },
          "metadata": {}
        }
      ]
    },
    {
      "cell_type": "code",
      "source": [
        "import tensorflow as tf\n",
        "import numpy as np\n",
        "import matplotlib.pyplot as plt\n",
        "\n",
        "MSE=tf.keras.losses.MeanSquaredError()\n",
        "def mse_loss(): #n\n",
        "  y= tf.zeros_like(x)\n",
        "  for i in range(w.shape[0]):\n",
        "    y+=w[i]*(x**(i+1))\n",
        "  y+=b\n",
        "  return MSE(y,t)\n",
        "\n",
        "\n",
        "EPOCH=1000;train_size=20\n",
        "\n",
        "tf.random.set_seed(1)\n",
        "x=tf.linspace(-5.0, 5.0, num=train_size)\n",
        "w_true=tf.Variable([1.0,2.0,3.0])\n",
        "b_true=tf.Variable(4.0)\n",
        "\n",
        "t=tf.zeros_like(x)\n",
        "for i in range(len(w_true.numpy())): #n\n",
        "  t += (x**(i+1)) * w_true[i]\n",
        "t+=b_true\n",
        "t+= tf.random.normal([train_size], mean=0.0, stddev=30) #3\n",
        "\n",
        "n=4\n",
        "w=tf.Variable(tf.random.normal([n]))\n",
        "b=tf.Variable(tf.random.normal([]))\n",
        "\n",
        "opt=tf.keras.optimizers.Adam(0.01)\n",
        "\n",
        "loss_list=[]\n",
        "for epoch in range(EPOCH):\n",
        "  opt.minimize(mse_loss, [w,b])\n",
        "\n",
        "  loss=mse_loss().numpy()\n",
        "  loss_list.append(loss)\n",
        "  if not epoch % 100: print(\"epoch={} loss={}\".format(epoch, loss))\n",
        "\n",
        "print(\"w={}, b={}, loss={}\".format(w.numpy(), b.numpy(), loss))\n",
        "\n",
        "plt.plot(loss_list)\n",
        "plt.show()\n",
        "\n",
        "#n\n",
        "plt.scatter(x,t.numpy())\n",
        "t_pred= tf.zeros_like(x) \n",
        "for i in range(w.shape[0]): t_pred+= w[i]*(x**(i+1))\n",
        "t_pred+=b\n",
        "\n",
        "plt.plot(x, t_pred, 'r-')\n",
        "plt.show()"
      ],
      "metadata": {
        "id": "PCqOTiD1tiX_",
        "outputId": "783f1038-3e90-42a2-aa12-fc634365f515",
        "colab": {
          "base_uri": "https://localhost:8080/",
          "height": 1000
        }
      },
      "execution_count": 16,
      "outputs": [
        {
          "output_type": "stream",
          "name": "stdout",
          "text": [
            "epoch=0 loss=116887.015625\n",
            "epoch=100 loss=21676.001953125\n",
            "epoch=200 loss=6637.5126953125\n",
            "epoch=300 loss=2749.12060546875\n",
            "epoch=400 loss=1326.599853515625\n",
            "epoch=500 loss=889.1759643554688\n",
            "epoch=600 loss=774.9925537109375\n",
            "epoch=700 loss=743.7781982421875\n",
            "epoch=800 loss=729.0\n",
            "epoch=900 loss=716.5155029296875\n",
            "w=[ 3.5896175 -1.6169069  2.9427285  0.1846685], b=-0.34825894236564636, loss=704.193603515625\n"
          ]
        },
        {
          "output_type": "display_data",
          "data": {
            "text/plain": [
              "<Figure size 640x480 with 1 Axes>"
            ],
            "image/png": "[encoded data removed]"
          },
          "metadata": {}
        },
        {
          "output_type": "display_data",
          "data": {
            "text/plain": [
              "<Figure size 640x480 with 1 Axes>"
            ],
            "image/png": "[encoded data removed]"
          },
          "metadata": {}
        }
      ]
    },
    {
      "cell_type": "code",
      "source": [
        "w_true=tf.Variable([1.0,2.0,3.0])\n",
        "len(w_true.numpy())"
      ],
      "metadata": {
        "id": "yO9WmEU0u-LW",
        "outputId": "b64df6fd-cf04-4809-e60e-309ba31a8e10",
        "colab": {
          "base_uri": "https://localhost:8080/"
        }
      },
      "execution_count": 12,
      "outputs": [
        {
          "output_type": "execute_result",
          "data": {
            "text/plain": [
              "3"
            ]
          },
          "metadata": {},
          "execution_count": 12
        }
      ]
    }
  ]
}