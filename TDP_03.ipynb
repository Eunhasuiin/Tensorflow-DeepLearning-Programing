{
  "nbformat": 4,
  "nbformat_minor": 0,
  "metadata": {
    "colab": {
      "provenance": [],
      "authorship_tag": "ABX9TyOojZFaEmsgd8sEk7m76iYP",
      "include_colab_link": true
    },
    "kernelspec": {
      "name": "python3",
      "display_name": "Python 3"
    },
    "language_info": {
      "name": "python"
    }
  },
  "cells": [
    {
      "cell_type": "markdown",
      "metadata": {
        "id": "view-in-github",
        "colab_type": "text"
      },
      "source": [
        "<a href=\"https://colab.research.google.com/github/Eunhasuiin/Tensorflow-DeepLearning-Programing/blob/main/TDP_03.ipynb\" target=\"_parent\"><img src=\"https://colab.research.google.com/assets/colab-badge.svg\" alt=\"Open In Colab\"/></a>"
      ]
    },
    {
      "cell_type": "markdown",
      "source": [
        "# I. Mean Square Error loss function"
      ],
      "metadata": {
        "id": "QENaLRNFiV8r"
      }
    },
    {
      "cell_type": "code",
      "execution_count": 1,
      "metadata": {
        "colab": {
          "base_uri": "https://localhost:8080/"
        },
        "id": "nOGfKRQahXKm",
        "outputId": "f2b83e40-72ee-4eaa-a14f-1b436975c87d"
      },
      "outputs": [
        {
          "output_type": "stream",
          "name": "stdout",
          "text": [
            "MSE(y1,t) ==  1.875\n",
            "MSE(y2,t) ==  0.25\n"
          ]
        }
      ],
      "source": [
        "import numpy as np\n",
        "\n",
        "#Mean square error calculate without tensorflow\n",
        "def MSE(y,t): return np.sum((y-t)**2)/t.size \n",
        "\n",
        "t=np.array([1,2,3,4])\n",
        "y1=np.array([0.5, 1, 1.5, 2])\n",
        "print(\"MSE(y1,t) == \", MSE(y1,t))\n",
        "\n",
        "y2=np.array([0.5, 1.5, 2.5, 3.5])\n",
        "print(\"MSE(y2,t) == \", MSE(y2,t))"
      ]
    },
    {
      "cell_type": "code",
      "source": [
        "import numpy as np\n",
        "import tensorflow as tf\n",
        "\n",
        "#calculate with reduce_mean() and square()\n",
        "def MSE(y, t): return tf.reduce_mean(tf.square(y-t)) # It calculate first (y-t) ** 2 and get mean\n",
        "\n",
        "t=np.array([1,2,3,4])\n",
        "y1=np.array([0.5, 1, 1.5, 2])\n",
        "print(\"MSE(y1,t) == \", MSE(y1,t).numpy()) # if there is not .numpy() -> MSE(y1,t) ==  tf.Tensor(1.875, shape=(), dtype=float64)\n",
        "\n",
        "y2=np.array([0.5, 1.5, 2.5, 3.5])\n",
        "print(\"MSE(y2,t) == \", MSE(y2,t).numpy()) # if there is not .numpy() -> MSE(y2,t) ==  tf.Tensor(0.25, shape=(), dtype=float64)"
      ],
      "metadata": {
        "colab": {
          "base_uri": "https://localhost:8080/"
        },
        "id": "86Y_OcHQkP2c",
        "outputId": "f4123857-6178-45e1-db0d-d5b0825dca1f"
      },
      "execution_count": 3,
      "outputs": [
        {
          "output_type": "stream",
          "name": "stdout",
          "text": [
            "MSE(y1,t) ==  1.875\n",
            "MSE(y2,t) ==  0.25\n"
          ]
        }
      ]
    },
    {
      "cell_type": "code",
      "source": [
        "import numpy as np\n",
        "import tensorflow as tf\n",
        "\n",
        "MSE=tf.keras.losses.MeanSquaredError() #make MSE to made funcion from keras\n",
        "\n",
        "t=np.array([1,2,3,4])\n",
        "t=tf.convert_to_tensor(t, dtype=tf.float32) #t is int32\n",
        "\n",
        "y1=np.array([0.5, 1, 1.5, 2])\n",
        "print(\"MSE(y1,t) == \", MSE(y1,t).numpy()) # if there is not .numpy() -> MSE(y1,t) ==  tf.Tensor(1.875, shape=(), dtype=float64)\n",
        "\n",
        "y2=np.array([0.5, 1.5, 2.5, 3.5])\n",
        "print(\"MSE(y2,t) == \", MSE(y2,t).numpy()) # if there is not .numpy() -> MSE(y2,t) ==  tf.Tensor(0.25, shape=(), dtype=float64)"
      ],
      "metadata": {
        "colab": {
          "base_uri": "https://localhost:8080/"
        },
        "id": "ixapK83xlqZV",
        "outputId": "ec226eea-8e9b-42f9-cbbe-2c3099736993"
      },
      "execution_count": 7,
      "outputs": [
        {
          "output_type": "stream",
          "name": "stdout",
          "text": [
            "MSE(y1,t) ==  1.875\n",
            "MSE(y2,t) ==  0.25\n"
          ]
        }
      ]
    },
    {
      "cell_type": "markdown",
      "source": [
        "# II Numpy simple linear regrssion"
      ],
      "metadata": {
        "id": "V91_jstcm-_e"
      }
    },
    {
      "cell_type": "markdown",
      "source": [
        "## 1. Gredient Decent"
      ],
      "metadata": {
        "id": "315oUoypwJW2"
      }
    },
    {
      "cell_type": "code",
      "source": [
        "import numpy as np\n",
        "def MSE(y,t): return np.sum((y-t)**2)/t.size  #loss function\n",
        "\n",
        "x=np.arange(12)\n",
        "t=np.arange(12)\n",
        "loss_list=[]\n",
        "\n",
        "#hyper_parameter setting\n",
        "w=0.5\n",
        "b=0\n",
        "lr=1e-2\n",
        "\n",
        "for epoch in range(200):\n",
        "  y=w*x+b #2_dim linear function\n",
        "  dW=np.sum((y-t)*x)*2/(x.size) # It came from f`(MSE)= (1/N) * sum((y-t)**2) y to w*x+b and partial derivative w\n",
        "  dB=np.sum((y-t))*2/(x.size) # It came from f`(MSE)= (1/N) * sum((y-t)**2) y to w*x+b and partial derivative b\n",
        "\n",
        "  w-=lr*dW #find next value of w\n",
        "  b-=lr*dB #find next value of b\n",
        "\n",
        "  y=w*x+b\n",
        "  loss=MSE(y,t) #caclulate result of this epoch\n",
        "  loss_list.append(loss)\n",
        "  if not epoch % 10: print(\"epoch={}: w={:>8.4f}, b={:>8.4f}, loss={:>8.4f}\".format(epoch, w, b, loss))\n",
        "\n",
        "print(\"w={:>.4f}, b={:>.4f}, loss={:>.4f}\".format(w, b, loss))\n",
        "\n",
        "import matplotlib.pyplot as plt\n",
        "plt.plot(loss_list)\n",
        "plt.show()"
      ],
      "metadata": {
        "colab": {
          "base_uri": "https://localhost:8080/",
          "height": 651
        },
        "id": "ssvs7vWhnImp",
        "outputId": "9bc00e0e-1596-4c68-d7ee-814802a1e913"
      },
      "execution_count": 11,
      "outputs": [
        {
          "output_type": "stream",
          "name": "stdout",
          "text": [
            "epoch=0: w=  0.9217, b=  0.0550, loss=  0.2144\n",
            "epoch=10: w=  0.9920, b=  0.0607, loss=  0.0010\n",
            "epoch=20: w=  0.9925, b=  0.0574, loss=  0.0009\n",
            "epoch=30: w=  0.9929, b=  0.0543, loss=  0.0008\n",
            "epoch=40: w=  0.9933, b=  0.0514, loss=  0.0007\n",
            "epoch=50: w=  0.9936, b=  0.0486, loss=  0.0007\n",
            "epoch=60: w=  0.9940, b=  0.0459, loss=  0.0006\n",
            "epoch=70: w=  0.9943, b=  0.0434, loss=  0.0005\n",
            "epoch=80: w=  0.9946, b=  0.0411, loss=  0.0005\n",
            "epoch=90: w=  0.9949, b=  0.0389, loss=  0.0004\n",
            "epoch=100: w=  0.9952, b=  0.0368, loss=  0.0004\n",
            "epoch=110: w=  0.9954, b=  0.0348, loss=  0.0003\n",
            "epoch=120: w=  0.9957, b=  0.0329, loss=  0.0003\n",
            "epoch=130: w=  0.9959, b=  0.0311, loss=  0.0003\n",
            "epoch=140: w=  0.9961, b=  0.0294, loss=  0.0002\n",
            "epoch=150: w=  0.9963, b=  0.0278, loss=  0.0002\n",
            "epoch=160: w=  0.9965, b=  0.0263, loss=  0.0002\n",
            "epoch=170: w=  0.9967, b=  0.0249, loss=  0.0002\n",
            "epoch=180: w=  0.9969, b=  0.0235, loss=  0.0002\n",
            "epoch=190: w=  0.9971, b=  0.0223, loss=  0.0001\n",
            "w=0.9972, b=0.0212, loss=0.0001\n"
          ]
        },
        {
          "output_type": "display_data",
          "data": {
            "text/plain": [
              "<Figure size 432x288 with 1 Axes>"
            ],
            "image/png": "[encoded data removed]"
          },
          "metadata": {
            "needs_background": "light"
          }
        }
      ]
    }
  ]
}