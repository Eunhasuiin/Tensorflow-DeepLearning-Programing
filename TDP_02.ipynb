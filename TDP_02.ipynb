{
  "nbformat": 4,
  "nbformat_minor": 0,
  "metadata": {
    "colab": {
      "provenance": [],
      "collapsed_sections": [
        "I8QfIIJxp7_R"
      ],
      "authorship_tag": "ABX9TyOrvaopoEC81TCx8zJ/gX0g",
      "include_colab_link": true
    },
    "kernelspec": {
      "name": "python3",
      "display_name": "Python 3"
    },
    "language_info": {
      "name": "python"
    }
  },
  "cells": [
    {
      "cell_type": "markdown",
      "metadata": {
        "id": "view-in-github",
        "colab_type": "text"
      },
      "source": [
        "<a href=\"https://colab.research.google.com/github/Eunhasuiin/Tensorflow-DeepLearning-Programing/blob/main/TDP_02.ipynb\" target=\"_parent\"><img src=\"https://colab.research.google.com/assets/colab-badge.svg\" alt=\"Open In Colab\"/></a>"
      ]
    },
    {
      "cell_type": "markdown",
      "source": [
        "# I. Eger excution and Generate tensor"
      ],
      "metadata": {
        "id": "2Y41DZ5ZpZZJ"
      }
    },
    {
      "cell_type": "markdown",
      "source": [
        "## A Tensorflow 1.X It doesn't have Eager execution"
      ],
      "metadata": {
        "id": "I8QfIIJxp7_R"
      }
    },
    {
      "cell_type": "code",
      "execution_count": null,
      "metadata": {
        "colab": {
          "base_uri": "https://localhost:8080/"
        },
        "id": "OqCkRbUCkiNO",
        "outputId": "7e331882-2efd-4605-f221-66720c0261b6"
      },
      "outputs": [
        {
          "output_type": "stream",
          "name": "stdout",
          "text": [
            "False\n",
            "False\n"
          ]
        }
      ],
      "source": [
        "from tensorflow.python.framework.ops import disable_eager_execution\n",
        "import tensorflow as tf\n",
        "\n",
        "# eger excution(즉시 실행 모드) is able?\n",
        "print(tf.executing_eagerly()) #This Line return True\n",
        "\n",
        "#turn off eger excution\n",
        "disable_eager_execution() # It is originaly using tf.disable_eager_execution() but, Because of Line 1, It leads we can use like Line 6 originaly tf.compat.v1.disable_eager_execution\n",
        "print(tf.executing_eagerly()) # This Line return False"
      ]
    },
    {
      "cell_type": "markdown",
      "source": [
        "###1 Graph construction"
      ],
      "metadata": {
        "id": "v6IFTb4SmpbS"
      }
    },
    {
      "cell_type": "code",
      "source": [
        "import tensorflow as tf\n",
        "# tf.executing_eagerly()==False\n",
        "\n",
        "a=tf.constant(1)\n",
        "b=tf.constant(2)\n",
        "c=a+b # It means c=tf.add(a,b)\n",
        "print(a);print(b);print(c); #Does It return 1, 2, 3"
      ],
      "metadata": {
        "colab": {
          "base_uri": "https://localhost:8080/"
        },
        "id": "EQLR66OKmiJP",
        "outputId": "e079922a-e5da-4925-faf9-cfcd91909b8a"
      },
      "execution_count": null,
      "outputs": [
        {
          "output_type": "stream",
          "name": "stdout",
          "text": [
            "Tensor(\"Const_6:0\", shape=(), dtype=int32)\n",
            "Tensor(\"Const_7:0\", shape=(), dtype=int32)\n",
            "Tensor(\"add_3:0\", shape=(), dtype=int32)\n"
          ]
        }
      ]
    },
    {
      "cell_type": "markdown",
      "source": [
        "###2. Graph execution"
      ],
      "metadata": {
        "id": "NE6fRkKLoHlG"
      }
    },
    {
      "cell_type": "code",
      "source": [
        "sess= tf.compat.v1.Session() #generating session for running tensorflow\n",
        "print(sess.run(a)) # 1\n",
        "print(sess.run(b)) # 2\n",
        "print(sess.run(c)) # 1+2 == 3\n",
        "sess.close() #removing session"
      ],
      "metadata": {
        "colab": {
          "base_uri": "https://localhost:8080/"
        },
        "id": "3brmCc57oNWk",
        "outputId": "f8e5b90e-e3db-4283-ed79-ede11c323d49"
      },
      "execution_count": null,
      "outputs": [
        {
          "output_type": "stream",
          "name": "stdout",
          "text": [
            "1\n",
            "2\n",
            "3\n"
          ]
        }
      ]
    },
    {
      "cell_type": "markdown",
      "source": [
        "## B Tensorflow 2.X has Eager execution"
      ],
      "metadata": {
        "id": "2b3qNss8pmCe"
      }
    },
    {
      "cell_type": "code",
      "source": [
        "from tensorflow.python.framework.ops import enable_eager_execution\n",
        "import tensorflow as tf\n",
        "\n",
        "enable_eager_execution() # tf.compat.v1.enable_eager_execution\n",
        "print(tf.executing_eagerly()) # True\n",
        "\n",
        "a=tf.constant(1)\n",
        "b=tf.constant(2)\n",
        "\n",
        "c=a+b #== c= tf.add(a,b)\n",
        "print(a);print(b);print(c); # tensor object\n",
        "print((int(a),b.numpy(),c.numpy())) # each value is default data_type at python"
      ],
      "metadata": {
        "colab": {
          "base_uri": "https://localhost:8080/"
        },
        "id": "2ILla-d4pXEr",
        "outputId": "91797a63-80ee-4436-c8aa-4202d58bbed4"
      },
      "execution_count": null,
      "outputs": [
        {
          "output_type": "stream",
          "name": "stdout",
          "text": [
            "True\n",
            "tf.Tensor(1, shape=(), dtype=int32)\n",
            "tf.Tensor(2, shape=(), dtype=int32)\n",
            "tf.Tensor(3, shape=(), dtype=int32)\n",
            "(1, 2, 3)\n"
          ]
        }
      ]
    },
    {
      "cell_type": "markdown",
      "source": [
        "## C. Generating tensor"
      ],
      "metadata": {
        "id": "S4YT6s-U6MUx"
      }
    },
    {
      "cell_type": "markdown",
      "source": [
        "### 1 constant values"
      ],
      "metadata": {
        "id": "9QzemqiEbrA7"
      }
    },
    {
      "cell_type": "code",
      "source": [
        "import tensorflow as tf\n",
        "\n",
        "a=tf.constant(1)\n",
        "b=tf.constant([1,2,3,4])\n",
        "c=tf.constant([[1,2],[3,4]])\n",
        "d=tf.constant([[[1,2],[3,4]]])\n",
        "\n",
        "print(\"a is %d and dtype of a is %s \\n\" % (a, a.dtype))\n",
        "\n",
        "print('each depth')\n",
        "print('a is %d' % a.ndim);print('b is %d' % b.ndim);print('c is %d' % c.ndim);print('d is %d' % d.ndim);\n",
        "print()\n",
        "\n",
        "print('each shape')\n",
        "print('a is ',a.shape);print('b is ',b.shape);print('c is ',c.shape);print('d is ',d.shape);\n",
        "print()\n",
        "\n",
        "print(\"index and slicing\")\n",
        "print(b[0]);print(b[:2]);print(c[0,0]);print(c[:,0])"
      ],
      "metadata": {
        "colab": {
          "base_uri": "https://localhost:8080/"
        },
        "id": "MYtpiyOJ6Sv6",
        "outputId": "4451b866-5534-4a22-b83e-e368948b5a1a"
      },
      "execution_count": null,
      "outputs": [
        {
          "output_type": "stream",
          "name": "stdout",
          "text": [
            "a is 1 and dtype of a is <dtype: 'int32'> \n",
            "\n",
            "each depth\n",
            "a is 0\n",
            "b is 1\n",
            "c is 2\n",
            "d is 3\n",
            "\n",
            "each shape\n",
            "a is  ()\n",
            "b is  (4,)\n",
            "c is  (2, 2)\n",
            "d is  (1, 2, 2)\n",
            "\n",
            "index and slicing\n",
            "tf.Tensor(1, shape=(), dtype=int32)\n",
            "tf.Tensor([1 2], shape=(2,), dtype=int32)\n",
            "tf.Tensor(1, shape=(), dtype=int32)\n",
            "tf.Tensor([1 3], shape=(2,), dtype=int32)\n"
          ]
        }
      ]
    },
    {
      "cell_type": "markdown",
      "source": [
        "### 2. variable values"
      ],
      "metadata": {
        "id": "mhpnAZ_bbw1U"
      }
    },
    {
      "cell_type": "code",
      "source": [
        "import tensorflow as tf\n",
        "\n",
        "a=tf.Variable(1)\n",
        "b=tf.Variable([1,2,3,4])\n",
        "c=tf.Variable([[1,2],[3,4]])\n",
        "d=tf.Variable([[[1,2],[3,4]]])\n",
        "\n",
        "print(\"a is %d and dtype of a is %s \\n\" % (a, a.dtype))\n",
        "\n",
        "#print('each depth')\n",
        "#print('a is %d' % a.ndim);print('b is %d' % b.ndim);print('c is %d' % c.ndim);print('d is %d' % d.ndim);\n",
        "#print()\n",
        "\n",
        "print('each shape')\n",
        "print('a is ',a.shape);print('b is ',b.shape);print('c is ',c.shape);print('d is ',d.shape);\n",
        "print()\n",
        "\n",
        "print(\"index and slicing\")\n",
        "print(b[0]);print(b[:2]);print(c[0,0]);print(c[:,0])\n",
        "\n",
        "print(id(a))\n",
        "temp=id(a)\n",
        "print(a.assign(10)) # print(a.assign(10),read_value=False): No return\n",
        "print(a.assign_add(20)) #30\n",
        "print(a.assign_sub(10)) #20\n",
        "print(id(a)-temp) #id is not chage"
      ],
      "metadata": {
        "colab": {
          "base_uri": "https://localhost:8080/"
        },
        "id": "XtBbo9ARb0p3",
        "outputId": "4853182d-4035-4862-d89d-0a89c693d855"
      },
      "execution_count": null,
      "outputs": [
        {
          "output_type": "stream",
          "name": "stdout",
          "text": [
            "a is 1 and dtype of a is <dtype: 'int32'> \n",
            "\n",
            "each shape\n",
            "a is  ()\n",
            "b is  (4,)\n",
            "c is  (2, 2)\n",
            "d is  (1, 2, 2)\n",
            "\n",
            "index and slicing\n",
            "tf.Tensor(1, shape=(), dtype=int32)\n",
            "tf.Tensor([1 2], shape=(2,), dtype=int32)\n",
            "tf.Tensor(1, shape=(), dtype=int32)\n",
            "tf.Tensor([1 3], shape=(2,), dtype=int32)\n",
            "140448137217744\n",
            "<tf.Variable 'UnreadVariable' shape=() dtype=int32, numpy=10>\n",
            "<tf.Variable 'UnreadVariable' shape=() dtype=int32, numpy=30>\n",
            "<tf.Variable 'UnreadVariable' shape=() dtype=int32, numpy=20>\n",
            "0\n"
          ]
        }
      ]
    },
    {
      "cell_type": "markdown",
      "source": [
        "### 3. a lot of function"
      ],
      "metadata": {
        "id": "Mi3UVwx46_s1"
      }
    },
    {
      "cell_type": "code",
      "source": [
        "import tensorflow as tf\n",
        "\n",
        "a=tf.zeros(shape=(2,3)) # Generate 2X3 array filled 0\n",
        "print(a)\n",
        "b=tf.ones(shape=(2,3)) # Generate 2X3 array filled 1\n",
        "print(b)\n",
        "c=tf.zeros_like(b) #Generate same size with b filled 0\n",
        "print(c)\n",
        "d=tf.ones_like(c) #Generate same size with c filled 1\n",
        "print(d)"
      ],
      "metadata": {
        "colab": {
          "base_uri": "https://localhost:8080/"
        },
        "id": "ARvtF4ZfgAFV",
        "outputId": "c2890c7f-9678-4b10-8350-71c264dbda96"
      },
      "execution_count": null,
      "outputs": [
        {
          "output_type": "stream",
          "name": "stdout",
          "text": [
            "tf.Tensor(\n",
            "[[0. 0. 0.]\n",
            " [0. 0. 0.]], shape=(2, 3), dtype=float32)\n",
            "tf.Tensor(\n",
            "[[1. 1. 1.]\n",
            " [1. 1. 1.]], shape=(2, 3), dtype=float32)\n",
            "tf.Tensor(\n",
            "[[0. 0. 0.]\n",
            " [0. 0. 0.]], shape=(2, 3), dtype=float32)\n",
            "tf.Tensor(\n",
            "[[1. 1. 1.]\n",
            " [1. 1. 1.]], shape=(2, 3), dtype=float32)\n",
            "<tf.Variable 'Variable:0' shape=(2, 3) dtype=float32, numpy=\n",
            "array([[1., 1., 1.],\n",
            "       [1., 1., 1.]], dtype=float32)>\n"
          ]
        }
      ]
    },
    {
      "cell_type": "code",
      "source": [
        "import tensorflow as tf\n",
        "\n",
        "a=tf.fill([2,3],2.0) # Generate 2X3 array filled 2.0\n",
        "print(a)\n",
        "b=tf.linspace(0.0,1.0,5) # [0.,0.25,0.5,0.75,1.0]\n",
        "print(b)\n",
        "c=tf.range(5) #[0,1,2,3,4]\n",
        "print(c)\n",
        "d=tf.range(1,5,0.5) #Generate same size with c filled 1\n",
        "print(d)\n",
        "w=tf.Variable(d) #changable value w\n",
        "print(w)"
      ],
      "metadata": {
        "id": "liw7YUm27HK_",
        "colab": {
          "base_uri": "https://localhost:8080/"
        },
        "outputId": "1bbb186a-6e12-4979-e1a0-b96e87556a64"
      },
      "execution_count": 2,
      "outputs": [
        {
          "output_type": "stream",
          "name": "stdout",
          "text": [
            "tf.Tensor(\n",
            "[[2. 2. 2.]\n",
            " [2. 2. 2.]], shape=(2, 3), dtype=float32)\n",
            "tf.Tensor([0.   0.25 0.5  0.75 1.  ], shape=(5,), dtype=float32)\n",
            "tf.Tensor([0 1 2 3 4], shape=(5,), dtype=int32)\n",
            "tf.Tensor([1.  1.5 2.  2.5 3.  3.5 4.  4.5], shape=(8,), dtype=float32)\n",
            "<tf.Variable 'Variable:0' shape=(8,) dtype=float32, numpy=array([1. , 1.5, 2. , 2.5, 3. , 3.5, 4. , 4.5], dtype=float32)>\n"
          ]
        }
      ]
    },
    {
      "cell_type": "code",
      "source": [
        "import tensorflow as tf\n",
        "\n",
        "a=range(6) #Set a [1,2,3,4,5,6]\n",
        "print(a)\n",
        "b=tf.reshape(a, shape= (2,3)) #make a to [2,3] array It sames tf.reshape(a, shape= (-1,3))\n",
        "print(b)\n",
        "c= tf.reshape(b, shape=(-1,))\n",
        "print(c)\n",
        "d=tf.transpose(b) #set d= b inverse\n",
        "print(d)"
      ],
      "metadata": {
        "colab": {
          "base_uri": "https://localhost:8080/"
        },
        "id": "pl_TG2rP8EIK",
        "outputId": "ad0beffe-ea6a-4ec8-aace-7d29b9ad9cc0"
      },
      "execution_count": 3,
      "outputs": [
        {
          "output_type": "stream",
          "name": "stdout",
          "text": [
            "range(0, 6)\n",
            "tf.Tensor(\n",
            "[[0 1 2]\n",
            " [3 4 5]], shape=(2, 3), dtype=int32)\n",
            "tf.Tensor([0 1 2 3 4 5], shape=(6,), dtype=int32)\n",
            "tf.Tensor(\n",
            "[[0 3]\n",
            " [1 4]\n",
            " [2 5]], shape=(3, 2), dtype=int32)\n"
          ]
        }
      ]
    },
    {
      "cell_type": "code",
      "source": [
        "import tensorflow as tf\n",
        "\n",
        "a=tf.constant([1,2])\n",
        "b=tf.constant([3,4])\n",
        "\n",
        "tf.stack([a,b]) #set axis=0 -> It fill row first\n",
        "tf.stack([a,b], axis=1) #set axis=1 -> It fill column first\n",
        "\n",
        "c=tf.concat([a,b], axis=0) # concat (It means link like chane) array A and array B If axis=0 -> It link row / axis=1 -> It link column \n",
        "print(c,end=\"\\n\\n\")\n",
        "\n",
        "a=tf.reshape(a, shape=(1,2))\n",
        "b=tf.reshape(b, shape=(1,2))\n",
        "c=tf.concat([a,b], axis=0)\n",
        "print(c,end=\"\\n\\n\")\n",
        "\n",
        "print(tf.concat([a,b], axis=1),end=\"\\n\\n\") # It link row [1,4]\n",
        "print(tf.concat([c,b], axis=0),end=\"\\n\\n\") # It link column [3,2]\n",
        "\n",
        "b=tf.reshape(b, shape=(2,1))\n",
        "print(b,end=\"\\n\\n\")\n",
        "\n",
        "print(tf.concat([c,b], axis=1))"
      ],
      "metadata": {
        "colab": {
          "base_uri": "https://localhost:8080/"
        },
        "id": "QWlMOFSJ9iGW",
        "outputId": "76f8e0a0-6232-4a2d-8f10-3729c2bacf78"
      },
      "execution_count": 17,
      "outputs": [
        {
          "output_type": "stream",
          "name": "stdout",
          "text": [
            "tf.Tensor([1 2 3 4], shape=(4,), dtype=int32)\n",
            "\n",
            "tf.Tensor(\n",
            "[[1 2]\n",
            " [3 4]], shape=(2, 2), dtype=int32)\n",
            "\n",
            "tf.Tensor([[1 2 3 4]], shape=(1, 4), dtype=int32)\n",
            "\n",
            "tf.Tensor(\n",
            "[[1 2]\n",
            " [3 4]\n",
            " [3 4]], shape=(3, 2), dtype=int32)\n",
            "\n",
            "tf.Tensor(\n",
            "[[3]\n",
            " [4]], shape=(2, 1), dtype=int32)\n",
            "\n",
            "tf.Tensor(\n",
            "[[1 2 3]\n",
            " [3 4 4]], shape=(2, 3), dtype=int32)\n",
            "\n"
          ]
        }
      ]
    },
    {
      "cell_type": "code",
      "source": [
        "import tensorflow as tf\n",
        "a=tf.constant([1,2]) #It is constant value array([1,2])\n",
        "print(a, end=\"\\n\\n\")\n",
        "\n",
        "b= tf.expand_dims(a, axis=0) #It seems (1,2) and array [[1,2]]\n",
        "print(b, end=\"\\n\\n\")\n",
        "\n",
        "c=tf.expand_dims(a,axis=1) #It seems (2,1) and array [[1],[2]]\n",
        "print(c, end=\"\\n\\n\")\n",
        "\n",
        "d=tf.expand_dims(c, axis=0) # It seems (1,2,1) and array [[[1],[2]]]\n",
        "print(d, end=\"\\n\\n\")\n",
        "\n",
        "e=tf.squeeze(d) # remove shape size = 1 at all axis -> It seems(2,) and array [1,2]\n",
        "print(e, end=\"\\n\\n\")\n",
        "\n",
        "f=tf.squeeze(d, axis=2) #remove all axis size at axis 2 -> It seems(1,2) and array [[1,2]]\n",
        "print(f)"
      ],
      "metadata": {
        "colab": {
          "base_uri": "https://localhost:8080/"
        },
        "id": "sFeF4bAQBJrW",
        "outputId": "1d926e6c-ad62-4d31-be49-d0a7b1d5741a"
      },
      "execution_count": 18,
      "outputs": [
        {
          "output_type": "stream",
          "name": "stdout",
          "text": [
            "tf.Tensor([1 2], shape=(2,), dtype=int32)\n",
            "\n",
            "tf.Tensor([[1 2]], shape=(1, 2), dtype=int32)\n",
            "\n",
            "tf.Tensor(\n",
            "[[1]\n",
            " [2]], shape=(2, 1), dtype=int32)\n",
            "\n",
            "tf.Tensor(\n",
            "[[[1]\n",
            "  [2]]], shape=(1, 2, 1), dtype=int32)\n",
            "\n",
            "tf.Tensor([1 2], shape=(2,), dtype=int32)\n",
            "\n",
            "tf.Tensor([[1 2]], shape=(1, 2), dtype=int32)\n"
          ]
        }
      ]
    },
    {
      "cell_type": "code",
      "source": [
        "from tensorflow._api.v2.compat.v1 import Variable\n",
        "import tensorflow as tf\n",
        "tf.random.set_seed(1) #It seems like set_seed() at R\n",
        "\n",
        "a=range(5)\n",
        "print(tf.random.shuffle(a),end=\"\\n\\n\") #It return return tensor A shuffle random\n",
        "print(tf.random.uniform(shape=(2,3),minval=0, maxval=1),end=\"\\n\\n\") #make (2,3) array filled data from uniform distribution min-max 0 to 1\n",
        "\n",
        "print(tf.random.normal(shape=(2,3)),end=\"\\n\\n\") #make (2,3) array filled Nomal distribution data set mean=0 stddev=1\n",
        "print(tf.random.normal(shape=(2,3), mean=10, stddev=2),end=\"\\n\\n\")\n",
        "print(tf.random.truncated_normal(shape=(2,3)),end=\"\\n\\n\") #generate (2,3) array filled standard normal distribution data from {x|(mean+-2*stddev>x)} of random value\n",
        "\n",
        "w=Variable(tf.random.truncated_normal(shape=(2,3))) #set w that initialize tensor Varialbe to truncated_normal mean=0 stddev=1\n",
        "print(w)"
      ],
      "metadata": {
        "colab": {
          "base_uri": "https://localhost:8080/"
        },
        "id": "YLK5mRkIHJVe",
        "outputId": "51577b95-17e2-4ffa-92b2-a682fe132a94"
      },
      "execution_count": 22,
      "outputs": [
        {
          "output_type": "stream",
          "name": "stdout",
          "text": [
            "tf.Tensor([2 0 1 4 3], shape=(5,), dtype=int32)\n",
            "\n",
            "tf.Tensor(\n",
            "[[0.51010704 0.44353175 0.4085331 ]\n",
            " [0.9924923  0.68866396 0.34584963]], shape=(2, 3), dtype=float32)\n",
            "\n",
            "tf.Tensor(\n",
            "[[-0.45701224 -0.40686727  0.72857773]\n",
            " [-0.8929778   0.31261146  0.9942925 ]], shape=(2, 3), dtype=float32)\n",
            "\n",
            "tf.Tensor(\n",
            "[[13.388033  10.239387   7.6830797]\n",
            " [10.345208   8.571008  11.379201 ]], shape=(2, 3), dtype=float32)\n",
            "\n",
            "tf.Tensor(\n",
            "[[ 0.6118191   0.49197587  0.8756376 ]\n",
            " [-0.6439091   0.94869226 -0.78464967]], shape=(2, 3), dtype=float32)\n",
            "\n",
            "<tf.Variable 'Variable:0' shape=(2, 3) dtype=float32, numpy=\n",
            "array([[-1.1771783 , -0.90325946,  0.8419609 ],\n",
            "       [-0.06870949,  0.33911815, -0.9542566 ]], dtype=float32)>\n"
          ]
        }
      ]
    },
    {
      "cell_type": "markdown",
      "source": [
        "### 4 base of tensorflow calculate"
      ],
      "metadata": {
        "id": "hLWivUDke6Vm"
      }
    },
    {
      "cell_type": "code",
      "source": [
        "import tensorflow as tf\n",
        "a=tf.constant([1,2])\n",
        "\n",
        "print(a+1) #== tf.add(a,1) == tf.math.add(a,1)\n",
        "print(a-1) #== tf.subtract(a,1) == tf.math.subtract(a,1)\n",
        "print(a*1) #== tf.multiply(a,1) == tf.math.multiply(a,1)\n",
        "print(a/1) #== tf.divide(a,1) == tf.math.divide(a,1) -> dtype change float64\n",
        "\n",
        "b=tf.constant([3,4])\n",
        "\n",
        "print(a+b) #==tf.add(a,b)\n",
        "print(a-b) #==tf.subtract(a,b)\n",
        "print(a*b) #==tf.multiply(a,b)\n",
        "print(a/b) #==tf.divide(a,b) -> dtype change float64\n",
        "\n",
        "#Watch carefully how to move at multy dimention\n",
        "a=tf.constant([[1,2],[3,4]])\n",
        "b=tf.constant([1,2])\n",
        "\n",
        "print(a+b) #==tf.add(a,b)\n",
        "print(a-b) #==tf.subtract(a,b)\n",
        "print(a*b) #==tf.multiply(a,b)\n",
        "print(a/b) #==tf.divide(a,b) -> dtype change float64"
      ],
      "metadata": {
        "colab": {
          "base_uri": "https://localhost:8080/"
        },
        "id": "8iIQt_hlfI8d",
        "outputId": "8191c222-f356-432c-a68a-0e2ba7e82b91"
      },
      "execution_count": 23,
      "outputs": [
        {
          "output_type": "stream",
          "name": "stdout",
          "text": [
            "tf.Tensor([2 3], shape=(2,), dtype=int32)\n",
            "tf.Tensor([0 1], shape=(2,), dtype=int32)\n",
            "tf.Tensor([1 2], shape=(2,), dtype=int32)\n",
            "tf.Tensor([1. 2.], shape=(2,), dtype=float64)\n",
            "tf.Tensor([4 6], shape=(2,), dtype=int32)\n",
            "tf.Tensor([-2 -2], shape=(2,), dtype=int32)\n",
            "tf.Tensor([3 8], shape=(2,), dtype=int32)\n",
            "tf.Tensor([0.33333333 0.5       ], shape=(2,), dtype=float64)\n",
            "tf.Tensor(\n",
            "[[2 4]\n",
            " [4 6]], shape=(2, 2), dtype=int32)\n",
            "tf.Tensor(\n",
            "[[0 0]\n",
            " [2 2]], shape=(2, 2), dtype=int32)\n",
            "tf.Tensor(\n",
            "[[1 4]\n",
            " [3 8]], shape=(2, 2), dtype=int32)\n",
            "tf.Tensor(\n",
            "[[1. 1.]\n",
            " [3. 2.]], shape=(2, 2), dtype=float64)\n"
          ]
        }
      ]
    },
    {
      "cell_type": "code",
      "source": [
        "import tensorflow as tf\n",
        "a=tf.reshape(tf.range(12),shape=(3,4))\n",
        "print(a,end=\"\\n\\n\")\n",
        "\n",
        "#reduce_min\n",
        "print(tf.reduce_min(a)) #get most small number at tensor a\n",
        "print(tf.reduce_min(a,axis=0)) #get smallest number at tensor a`s each column\n",
        "print(tf.reduce_min(a,axis=1),end=\"\\n\\n\" ) #get smallest number at tensor a`s each row\n",
        "\n",
        "#reduce_max\n",
        "print(tf.reduce_max(a)) #get biggest number at tensor a\n",
        "print(tf.reduce_max(a,axis=0)) #get biggest number at tensor a`s each column\n",
        "print(tf.reduce_max(a,axis=1),end=\"\\n\\n\") #get biggest number at tensor a`s each row\n",
        "\n",
        "#reduce_sum\n",
        "print(tf.reduce_sum(a)) #get result af sum all number at tensor a\n",
        "print(tf.reduce_sum(a,axis=0)) #get result af sum all number at tensor a`s each column\n",
        "print(tf.reduce_sum(a,axis=1),end=\"\\n\\n\") #get result af sum all number at tensor a`s each row\n",
        "\n",
        "#reduce_mean\n",
        "print(tf.reduce_mean(a)) #get result af mean all number at tensor a\n",
        "print(tf.reduce_mean(a,axis=0)) #get result af mean all number at tensor a`s each column\n",
        "print(tf.reduce_mean(a,axis=1),end=\"\\n\\n\") #get result af mean all number at tensor a`s each row\n",
        "\n",
        "#reduce_prod\n",
        "print(tf.reduce_prod(a)) #get result af prod all number at tensor a\n",
        "print(tf.reduce_prod(a,axis=0)) #get result af prod all number at tensor a`s each column\n",
        "print(tf.reduce_prod(a,axis=1),end=\"\\n\\n\") #get result af prod all number at tensor a`s each row"
      ],
      "metadata": {
        "colab": {
          "base_uri": "https://localhost:8080/"
        },
        "id": "gtAKSpDJhbpL",
        "outputId": "c3dea3fc-9292-4ba3-9064-3e182e4d5a5b"
      },
      "execution_count": 26,
      "outputs": [
        {
          "output_type": "stream",
          "name": "stdout",
          "text": [
            "tf.Tensor(\n",
            "[[ 0  1  2  3]\n",
            " [ 4  5  6  7]\n",
            " [ 8  9 10 11]], shape=(3, 4), dtype=int32)\n",
            "\n",
            "tf.Tensor(0, shape=(), dtype=int32)\n",
            "tf.Tensor([0 1 2 3], shape=(4,), dtype=int32)\n",
            "tf.Tensor([0 4 8], shape=(3,), dtype=int32)\n",
            "\n",
            "tf.Tensor(11, shape=(), dtype=int32)\n",
            "tf.Tensor([ 8  9 10 11], shape=(4,), dtype=int32)\n",
            "tf.Tensor([ 3  7 11], shape=(3,), dtype=int32)\n",
            "\n",
            "tf.Tensor(66, shape=(), dtype=int32)\n",
            "tf.Tensor([12 15 18 21], shape=(4,), dtype=int32)\n",
            "tf.Tensor([ 6 22 38], shape=(3,), dtype=int32)\n",
            "\n",
            "tf.Tensor(5, shape=(), dtype=int32)\n",
            "tf.Tensor([4 5 6 7], shape=(4,), dtype=int32)\n",
            "tf.Tensor([1 5 9], shape=(3,), dtype=int32)\n",
            "\n",
            "tf.Tensor(0, shape=(), dtype=int32)\n",
            "tf.Tensor([  0  45 120 231], shape=(4,), dtype=int32)\n",
            "tf.Tensor([   0  840 7920], shape=(3,), dtype=int32)\n",
            "\n"
          ]
        }
      ]
    },
    {
      "cell_type": "code",
      "source": [
        "a=tf.random.shuffle(tf.range(12))\n",
        "print(a,end=\"\\n\\n\")\n",
        "\n",
        "print(tf.sort(a)) #durection = \"ASCENDING\"\n",
        "print(tf.sort(a, direction=\"DESCENDING\"),end=\"\\n\\n\")\n",
        "\n",
        "a=tf.reshape(a, shape=(3,4))\n",
        "print(a,end=\"\\n\\n\")\n",
        "\n",
        "print(tf.sort(a)) #tf.sort(a,axis=1) sorting each row\n",
        "print(tf.sort(a, axis=0)) # sorting each column"
      ],
      "metadata": {
        "colab": {
          "base_uri": "https://localhost:8080/"
        },
        "id": "c8B3wsrTiZvj",
        "outputId": "64934bff-2abf-4f74-854c-1c4b6341d67c"
      },
      "execution_count": 33,
      "outputs": [
        {
          "output_type": "stream",
          "name": "stdout",
          "text": [
            "tf.Tensor([ 2  5  3  9 10  7 11  8  6  1  0  4], shape=(12,), dtype=int32)\n",
            "\n",
            "tf.Tensor([ 0  1  2  3  4  5  6  7  8  9 10 11], shape=(12,), dtype=int32)\n",
            "tf.Tensor([11 10  9  8  7  6  5  4  3  2  1  0], shape=(12,), dtype=int32)\n",
            "\n",
            "tf.Tensor(\n",
            "[[ 2  5  3  9]\n",
            " [10  7 11  8]\n",
            " [ 6  1  0  4]], shape=(3, 4), dtype=int32)\n",
            "\n",
            "tf.Tensor(\n",
            "[[ 2  3  5  9]\n",
            " [ 7  8 10 11]\n",
            " [ 0  1  4  6]], shape=(3, 4), dtype=int32)\n",
            "tf.Tensor(\n",
            "[[ 2  1  0  4]\n",
            " [ 6  5  3  8]\n",
            " [10  7 11  9]], shape=(3, 4), dtype=int32)\n"
          ]
        }
      ]
    },
    {
      "cell_type": "markdown",
      "source": [
        "#### A. Leanear"
      ],
      "metadata": {
        "id": "1FJ9nrsQysMA"
      }
    },
    {
      "cell_type": "code",
      "source": [
        "import tensorflow as tf\n",
        "a=tf.constant([1,2,3],dtype=tf.float64)\n",
        "\n",
        "print(tf.norm(a),end=\"\\n\\n\") # caculate norm\n",
        "\n",
        "A=tf.constant([[1,2],[3,4]],dtype=tf.float64)\n",
        "print(tf.linalg.matrix_transpose(A)) #calculate A transpose\n",
        "\n",
        "print(tf.linalg.det(A)) #calculate determinat if det != 0 It has inverse function\n",
        "B=tf.linalg.inv(A) #calculate inverse of A\n",
        "print(B,end=\"\\n\\n\")\n",
        "\n",
        "print(tf.matmul(A,B)) #multiply of A and B In this case A is inverse of B so It leads unit matrix"
      ],
      "metadata": {
        "colab": {
          "base_uri": "https://localhost:8080/"
        },
        "id": "EmB0T5eOiZ0B",
        "outputId": "ade6f3ce-08dc-4a10-9a67-c9ad5bfc72d0"
      },
      "execution_count": 38,
      "outputs": [
        {
          "output_type": "stream",
          "name": "stdout",
          "text": [
            "tf.Tensor(3.7416573867739413, shape=(), dtype=float64)\n",
            "\n",
            "tf.Tensor(\n",
            "[[1. 3.]\n",
            " [2. 4.]], shape=(2, 2), dtype=float64)\n",
            "tf.Tensor(-2.0000000000000004, shape=(), dtype=float64)\n",
            "tf.Tensor(\n",
            "[[-2.   1. ]\n",
            " [ 1.5 -0.5]], shape=(2, 2), dtype=float64)\n",
            "\n",
            "tf.Tensor(\n",
            "[[1.0000000e+00 0.0000000e+00]\n",
            " [8.8817842e-16 1.0000000e+00]], shape=(2, 2), dtype=float64)\n"
          ]
        }
      ]
    },
    {
      "cell_type": "code",
      "source": [
        "import tensorflow as tf\n",
        "\n",
        "A=tf.constant([[1,4,1],[1,6,-1],[2,-1,2]],dtype=tf.float64)\n",
        "b=tf.constant([[7],[13],[5]],dtype=tf.float64)\n",
        "\n",
        "print(tf.linalg.det(A), end=\"\\n\\n\") #-18.0\n",
        "x=tf.matmul(tf.linalg.inv(A),b) # x = inv(A) X b ->>> [3,3] X [3,1] = [3,1] \n",
        "\n",
        "#check error\n",
        "def all_close(x,y, tol=1e-5):\n",
        "  return(tf.reduce_sum(tf.abs(x-y))) < tol\n",
        "  return(tf.reduce_sum(tf.square(x-y))) < tol\n",
        "\n",
        "print(\"matmul:\",str(all_close(tf.linalg.matmul(A,x),b)), end=\"\\n\\n\")\n",
        "\n",
        "x=tf.linalg.solve(A,b)\n",
        "print(x, end=\"\\n\\n\")\n",
        "print(\"solve:\",str(all_close(tf.linalg.matmul(A,x),b)))"
      ],
      "metadata": {
        "colab": {
          "base_uri": "https://localhost:8080/"
        },
        "id": "bWC1VLnNvmE8",
        "outputId": "281eb811-8931-475e-9c6e-a52e08bf7761"
      },
      "execution_count": 43,
      "outputs": [
        {
          "output_type": "stream",
          "name": "stdout",
          "text": [
            "tf.Tensor(-17.999999999999996, shape=(), dtype=float64)\n",
            "\n",
            "matmul: tf.Tensor(True, shape=(), dtype=bool)\n",
            "\n",
            "tf.Tensor(\n",
            "[[ 5.]\n",
            " [ 1.]\n",
            " [-2.]], shape=(3, 1), dtype=float64)\n",
            "\n",
            "solve: tf.Tensor(True, shape=(), dtype=bool)\n"
          ]
        }
      ]
    },
    {
      "cell_type": "code",
      "source": [
        "from tensorflow.python.ops.init_ops import deprecated_arg_values\n",
        "from tensorflow._api.v2 import linalg\n",
        "import tensorflow as tf\n",
        "\n",
        "A=tf.constant([[1,4,1],[1,6,-1],[2,-1,2]],dtype=tf.float64)\n",
        "\n",
        "L_U,p= tf.linalg.lu(A)\n",
        "print(L_U)\n",
        "print(p)\n",
        "print();print()\n",
        "\n",
        "#making P, L, U\n",
        "U=tf.linalg.band_part(L_U, 0, -1) #Upper triangular\n",
        "print(U)\n",
        "L=tf.linalg.band_part(L_U,-1,0) #Lower triangular\n",
        "print(L,end=\"\\n\\n\")\n",
        "\n",
        "L=tf.linalg.set_diag(L, [1,1,1]) #strictly lower triangular part of LU\n",
        "print(L)\n",
        "\n",
        "P=tf.gather(tf.eye(3),p) #tf.eye is unit matrix tf.gatheris https://www.tensorflow.org/api_docs/python/tf/gather\n",
        "print(P)\n",
        "print();print()\n",
        "\n",
        "#check A == PLU under this 2 function is same tool\n",
        "print(tf.linalg.lu_reconstruct(L_U,p))\n",
        "P=tf.cast(P, tf.float64) #P is int32 before. So We have to cast P to float64\n",
        "print(tf.matmul(P, tf.matmul(L,U))) #It is same with tf.gather(tf.matmul(L,U),p)\n",
        "print();print()\n",
        "\n",
        "#solve Ax=b using PLUx=b\n",
        "print(tf.linalg.lu_solve(L_U, p, b))\n",
        "y=tf.linalg.triangular_solve(L, tf.matmul(tf.transpose(P),b))\n",
        "print(y)\n",
        "\n",
        "x=tf.linalg.triangular_solve(U, y, lower=False)\n",
        "print(x)\n",
        "print();print()\n",
        "\n",
        "#pivot, calculate det and rank\n",
        "D=tf.linalg.diag_part(L_U) #tf.linalg.diag_part(U)\n",
        "print(D)\n",
        "rank=tf.math.count_nonzero(D)\n",
        "print(rank,end=\"\\n\\n\\n\")\n",
        "\n",
        "det_U=tf.reduce_prod(tf.linalg.diag_part(U)) #tf.linalg.det(U)\n",
        "det_L=tf.reduce_prod(tf.linalg.diag_part(L)) #tf.linalg.det(L)\n",
        "det_P=tf.linalg.det(P)\n",
        "\n",
        "print(det_U);print(det_L);print(det_P)\n",
        "det_A=det_P*det_L*det_U\n",
        "print(det_A)"
      ],
      "metadata": {
        "colab": {
          "base_uri": "https://localhost:8080/"
        },
        "id": "xEdJ7xx4wvNx",
        "outputId": "4a2c3d2b-5537-41ba-9139-2380509907b1"
      },
      "execution_count": 73,
      "outputs": [
        {
          "output_type": "stream",
          "name": "stdout",
          "text": [
            "tf.Tensor(\n",
            "[[ 2.         -1.          2.        ]\n",
            " [ 0.5         6.5        -2.        ]\n",
            " [ 0.5         0.69230769  1.38461538]], shape=(3, 3), dtype=float64)\n",
            "tf.Tensor([2 1 0], shape=(3,), dtype=int32)\n",
            "\n",
            "\n",
            "tf.Tensor(\n",
            "[[ 2.         -1.          2.        ]\n",
            " [ 0.          6.5        -2.        ]\n",
            " [ 0.          0.          1.38461538]], shape=(3, 3), dtype=float64)\n",
            "tf.Tensor(\n",
            "[[2.         0.         0.        ]\n",
            " [0.5        6.5        0.        ]\n",
            " [0.5        0.69230769 1.38461538]], shape=(3, 3), dtype=float64)\n",
            "\n",
            "tf.Tensor(\n",
            "[[1.         0.         0.        ]\n",
            " [0.5        1.         0.        ]\n",
            " [0.5        0.69230769 1.        ]], shape=(3, 3), dtype=float64)\n",
            "tf.Tensor(\n",
            "[[0. 0. 1.]\n",
            " [0. 1. 0.]\n",
            " [1. 0. 0.]], shape=(3, 3), dtype=float32)\n",
            "\n",
            "\n",
            "tf.Tensor(\n",
            "[[ 1.  4.  1.]\n",
            " [ 1.  6. -1.]\n",
            " [ 2. -1.  2.]], shape=(3, 3), dtype=float64)\n",
            "tf.Tensor(\n",
            "[[ 1.  4.  1.]\n",
            " [ 1.  6. -1.]\n",
            " [ 2. -1.  2.]], shape=(3, 3), dtype=float64)\n",
            "\n",
            "\n",
            "tf.Tensor(\n",
            "[[ 5.]\n",
            " [ 1.]\n",
            " [-2.]], shape=(3, 1), dtype=float64)\n",
            "tf.Tensor(\n",
            "[[ 5.        ]\n",
            " [10.5       ]\n",
            " [-2.76923077]], shape=(3, 1), dtype=float64)\n",
            "tf.Tensor(\n",
            "[[ 5.]\n",
            " [ 1.]\n",
            " [-2.]], shape=(3, 1), dtype=float64)\n",
            "\n",
            "\n",
            "tf.Tensor([2.         6.5        1.38461538], shape=(3,), dtype=float64)\n",
            "tf.Tensor(3, shape=(), dtype=int64)\n",
            "\n",
            "\n",
            "tf.Tensor(18.0, shape=(), dtype=float64)\n",
            "tf.Tensor(1.0, shape=(), dtype=float64)\n",
            "tf.Tensor(-1.0, shape=(), dtype=float64)\n",
            "tf.Tensor(-18.0, shape=(), dtype=float64)\n"
          ]
        }
      ]
    },
    {
      "cell_type": "code",
      "source": [
        "#Least Square solution\n",
        "import tensorflow as tf\n",
        "\n",
        "A=tf.constant([[0,1],[1,1],[2,1]],dtype=tf.float32)\n",
        "b=tf.constant([[6],[0],[0]],dtype=tf.float32)\n",
        "\n",
        "At=tf.transpose(A)\n",
        "C=tf.matmul(At,A)\n",
        "print(C,end=\"\\n\\n\\n\")\n",
        "\n",
        "#At Ax= At b\n",
        "x=tf.linalg.solve(C, tf.matmul(At,b))\n",
        "print(x, end=\"\\n\\n\")\n",
        "\n",
        "\n",
        "x2=tf.matmul(tf.matmul(tf.linalg.inv(C),At),b)\n",
        "print(x2, end=\"\\n\\n\\n\")\n",
        "\n",
        "#A=PLU split\n",
        "L_U, p= tf.linalg.lu(C)\n",
        "x3=tf.linalg.lu_solve(L_U,p,tf.matmul(At,b))\n",
        "print(x3, end=\"\\n\\n\\n\")\n",
        "\n",
        "#tf.linaglstsq()\n",
        "x4=tf.linalg.lstsq(A,b)\n",
        "print(x4)\n",
        "\n",
        "#draw line\n",
        "m,c=x.numpy()[:,0]\n",
        "import matplotlib.pyplot as plt\n",
        "plt.gca().set_aspect('equal')\n",
        "plt.scatter(x=A.numpy()[:,0],y=b.numpy())\n",
        "t=tf.linspace(-1.0,3.0,num=51)\n",
        "b1=m*t+c\n",
        "plt.plot(t, b1,\"b-\")\n",
        "plt.axis([-1,10,-1,10])\n",
        "plt.show()\n"
      ],
      "metadata": {
        "colab": {
          "base_uri": "https://localhost:8080/",
          "height": 0
        },
        "id": "CJbYwGrO0Pa_",
        "outputId": "ea1601a5-e59f-4a3a-caec-03a28eb525b4"
      },
      "execution_count": 78,
      "outputs": [
        {
          "output_type": "stream",
          "name": "stdout",
          "text": [
            "tf.Tensor(\n",
            "[[5. 3.]\n",
            " [3. 3.]], shape=(2, 2), dtype=float32)\n",
            "\n",
            "\n",
            "tf.Tensor(\n",
            "[[-3.]\n",
            " [ 5.]], shape=(2, 1), dtype=float32)\n",
            "\n",
            "tf.Tensor(\n",
            "[[-3.]\n",
            " [ 5.]], shape=(2, 1), dtype=float32)\n",
            "\n",
            "\n",
            "tf.Tensor(\n",
            "[[-3.]\n",
            " [ 5.]], shape=(2, 1), dtype=float32)\n",
            "\n",
            "\n",
            "tf.Tensor(\n",
            "[[-2.9999995]\n",
            " [ 4.9999995]], shape=(2, 1), dtype=float32)\n"
          ]
        },
        {
          "output_type": "display_data",
          "data": {
            "text/plain": [
              "<Figure size 432x288 with 1 Axes>"
            ],
            "image/png": "[encoded data removed]"
          },
          "metadata": {
            "needs_background": "light"
          }
        }
      ]
    },
    {
      "cell_type": "markdown",
      "source": [
        "### B Gradient Decent method"
      ],
      "metadata": {
        "id": "3UGNOK6vEh0S"
      }
    },
    {
      "cell_type": "code",
      "source": [
        "import tensorflow as tf\n",
        "import numpy as np\n",
        "import matplotlib.pyplot as plt\n",
        "\n",
        "#def function\n",
        "def f(x):\n",
        "  return x**4 - 3*x**3 + 2\n",
        "def fprime(x):\n",
        "  h=1e-3\n",
        "  return (f(x+h)-f(x))/h\n",
        "\n",
        "# hyper parameter\n",
        "k=0\n",
        "max_iters=1000\n",
        "lr=1e-3\n",
        "tol=1e-5\n",
        "\n",
        "x_old= 0.0\n",
        "x_new=4.0\n",
        "x_list=[x_new]\n",
        "\n",
        "#main\n",
        "x=tf.Variable(x_new, dtype=tf.float32)\n",
        "\n",
        "while abs(x_old - x_new) >tol and k < max_iters:\n",
        "  k+=1\n",
        "  x_old=x.numpy()\n",
        "  step=lr*fprime(x)\n",
        "  x.assign_sub(step, read_value=False) #update value by gradient decent method\n",
        "  x_new=x.numpy()\n",
        "  x_list.append(x_new)\n",
        "print('k={}: f({})={}'.format(k,x_new,f(x_new)))\n",
        "\n",
        "print(\"[f(0), f(9/4), f(-2), f(4)]\",[f(0), f(9/4), f(-2), f(4)])\n",
        "\n",
        "xs=tf.linspace(-2.0,4.0, num=101)\n",
        "ys=f(xs)\n",
        "plt.plot(xs,ys, 'b-')\n",
        "\n",
        "x_list=tf.constant(x_list,dtype=tf.float32)\n",
        "y_list=f(x_list)\n",
        "plt.plot(x_list,y_list,'ro')\n",
        "plt.show"
      ],
      "metadata": {
        "colab": {
          "base_uri": "https://localhost:8080/",
          "height": 320
        },
        "id": "E4Hc2Iz9EhQs",
        "outputId": "8aacc952-2fdc-49cc-acf9-eb3fa9ac403b"
      },
      "execution_count": 4,
      "outputs": [
        {
          "output_type": "stream",
          "name": "stdout",
          "text": [
            "k=336: f(2.250152587890625)=-6.542968514237657\n",
            "[f(0), f(9/4), f(-2), f(4)] [2, -6.54296875, 42, 66]\n"
          ]
        },
        {
          "output_type": "execute_result",
          "data": {
            "text/plain": [
              "<function matplotlib.pyplot.show(close=None, block=None)>"
            ]
          },
          "metadata": {},
          "execution_count": 4
        },
        {
          "output_type": "display_data",
          "data": {
            "text/plain": [
              "<Figure size 432x288 with 1 Axes>"
            ],
            "image/png": "[encoded data removed]"
          },
          "metadata": {
            "needs_background": "light"
          }
        }
      ]
    }
  ]
}